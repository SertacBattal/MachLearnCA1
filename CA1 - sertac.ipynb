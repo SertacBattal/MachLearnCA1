{
 "cells": [
  {
   "cell_type": "code",
   "execution_count": 1,
   "id": "49f34770",
   "metadata": {},
   "outputs": [],
   "source": [
    "import pandas as pd\n",
    "import numpy as np\n",
    "import matplotlib.pyplot as plt\n",
    "import seaborn as sns\n",
    "import missingno as msno\n",
    "import warnings\n",
    "warnings.filterwarnings('ignore') # We can suppress the warnings"
   ]
  },
  {
   "cell_type": "markdown",
   "id": "40e972b4",
   "metadata": {},
   "source": [
    "# Airlines Delay Datasets Analysis\n",
    "In this analysis, we examine the three months of 6-7-8/2023 (summer months when the density of flights increases)."
   ]
  },
  {
   "cell_type": "code",
   "execution_count": 2,
   "id": "b4b78c7d",
   "metadata": {},
   "outputs": [
    {
     "data": {
      "text/html": [
       "<div>\n",
       "<style scoped>\n",
       "    .dataframe tbody tr th:only-of-type {\n",
       "        vertical-align: middle;\n",
       "    }\n",
       "\n",
       "    .dataframe tbody tr th {\n",
       "        vertical-align: top;\n",
       "    }\n",
       "\n",
       "    .dataframe thead th {\n",
       "        text-align: right;\n",
       "    }\n",
       "</style>\n",
       "<table border=\"1\" class=\"dataframe\">\n",
       "  <thead>\n",
       "    <tr style=\"text-align: right;\">\n",
       "      <th></th>\n",
       "      <th>SYS_FIELD_NAME</th>\n",
       "      <th>FIELD_DESC</th>\n",
       "    </tr>\n",
       "  </thead>\n",
       "  <tbody>\n",
       "    <tr>\n",
       "      <th>0</th>\n",
       "      <td>YEAR</td>\n",
       "      <td>Year</td>\n",
       "    </tr>\n",
       "    <tr>\n",
       "      <th>1</th>\n",
       "      <td>QUARTER</td>\n",
       "      <td>Quarter (1-4)</td>\n",
       "    </tr>\n",
       "    <tr>\n",
       "      <th>2</th>\n",
       "      <td>MONTH</td>\n",
       "      <td>Month</td>\n",
       "    </tr>\n",
       "    <tr>\n",
       "      <th>3</th>\n",
       "      <td>DAY_OF_MONTH</td>\n",
       "      <td>Day of Month</td>\n",
       "    </tr>\n",
       "    <tr>\n",
       "      <th>4</th>\n",
       "      <td>DAY_OF_WEEK</td>\n",
       "      <td>Day of Week</td>\n",
       "    </tr>\n",
       "    <tr>\n",
       "      <th>5</th>\n",
       "      <td>FL_DATE</td>\n",
       "      <td>Flight Date (yyyymmdd)</td>\n",
       "    </tr>\n",
       "    <tr>\n",
       "      <th>6</th>\n",
       "      <td>OP_UNIQUE_CARRIER</td>\n",
       "      <td>Unique Carrier Code. When the same code has be...</td>\n",
       "    </tr>\n",
       "    <tr>\n",
       "      <th>7</th>\n",
       "      <td>OP_CARRIER_AIRLINE_ID</td>\n",
       "      <td>An identification number assigned by US DOT to...</td>\n",
       "    </tr>\n",
       "    <tr>\n",
       "      <th>8</th>\n",
       "      <td>OP_CARRIER</td>\n",
       "      <td>Code assigned by IATA and commonly used to ide...</td>\n",
       "    </tr>\n",
       "    <tr>\n",
       "      <th>9</th>\n",
       "      <td>TAIL_NUM</td>\n",
       "      <td>Tail Number</td>\n",
       "    </tr>\n",
       "    <tr>\n",
       "      <th>10</th>\n",
       "      <td>OP_CARRIER_FL_NUM</td>\n",
       "      <td>Flight Number</td>\n",
       "    </tr>\n",
       "    <tr>\n",
       "      <th>11</th>\n",
       "      <td>ORIGIN_AIRPORT_ID</td>\n",
       "      <td>Origin Airport, Airport ID. An identification ...</td>\n",
       "    </tr>\n",
       "    <tr>\n",
       "      <th>12</th>\n",
       "      <td>ORIGIN_AIRPORT_SEQ_ID</td>\n",
       "      <td>Origin Airport, Airport Sequence ID. An identi...</td>\n",
       "    </tr>\n",
       "    <tr>\n",
       "      <th>13</th>\n",
       "      <td>ORIGIN</td>\n",
       "      <td>Origin Airport</td>\n",
       "    </tr>\n",
       "    <tr>\n",
       "      <th>14</th>\n",
       "      <td>ORIGIN_STATE_ABR</td>\n",
       "      <td>Origin Airport, State Code</td>\n",
       "    </tr>\n",
       "    <tr>\n",
       "      <th>15</th>\n",
       "      <td>ORIGIN_STATE_FIPS</td>\n",
       "      <td>Origin Airport, State Fips</td>\n",
       "    </tr>\n",
       "    <tr>\n",
       "      <th>16</th>\n",
       "      <td>ORIGIN_STATE_NM</td>\n",
       "      <td>Origin Airport, State Name</td>\n",
       "    </tr>\n",
       "    <tr>\n",
       "      <th>17</th>\n",
       "      <td>ORIGIN_WAC</td>\n",
       "      <td>Origin Airport, World Area Code</td>\n",
       "    </tr>\n",
       "    <tr>\n",
       "      <th>18</th>\n",
       "      <td>DEST_AIRPORT_ID</td>\n",
       "      <td>Destination Airport, Airport ID. An identifica...</td>\n",
       "    </tr>\n",
       "    <tr>\n",
       "      <th>19</th>\n",
       "      <td>DEST_AIRPORT_SEQ_ID</td>\n",
       "      <td>Destination Airport, Airport Sequence ID. An i...</td>\n",
       "    </tr>\n",
       "    <tr>\n",
       "      <th>20</th>\n",
       "      <td>DEST</td>\n",
       "      <td>Destination Airport</td>\n",
       "    </tr>\n",
       "    <tr>\n",
       "      <th>21</th>\n",
       "      <td>DEST_CITY_NAME</td>\n",
       "      <td>Destination Airport, City Name</td>\n",
       "    </tr>\n",
       "    <tr>\n",
       "      <th>22</th>\n",
       "      <td>DEST_STATE_ABR</td>\n",
       "      <td>Destination Airport, State Code</td>\n",
       "    </tr>\n",
       "    <tr>\n",
       "      <th>23</th>\n",
       "      <td>DEST_STATE_FIPS</td>\n",
       "      <td>Destination Airport, State Fips</td>\n",
       "    </tr>\n",
       "    <tr>\n",
       "      <th>24</th>\n",
       "      <td>DEST_STATE_NM</td>\n",
       "      <td>Destination Airport, State Name</td>\n",
       "    </tr>\n",
       "    <tr>\n",
       "      <th>25</th>\n",
       "      <td>DEST_WAC</td>\n",
       "      <td>Destination Airport, World Area Code</td>\n",
       "    </tr>\n",
       "    <tr>\n",
       "      <th>26</th>\n",
       "      <td>CRS_DEP_TIME</td>\n",
       "      <td>CRS Departure Time (local time: hhmm)</td>\n",
       "    </tr>\n",
       "    <tr>\n",
       "      <th>27</th>\n",
       "      <td>DEP_TIME</td>\n",
       "      <td>Actual Departure Time (local time: hhmm)</td>\n",
       "    </tr>\n",
       "    <tr>\n",
       "      <th>28</th>\n",
       "      <td>DEP_DELAY</td>\n",
       "      <td>Difference in minutes between scheduled and ac...</td>\n",
       "    </tr>\n",
       "    <tr>\n",
       "      <th>29</th>\n",
       "      <td>DEP_DELAY_NEW</td>\n",
       "      <td>Difference in minutes between scheduled and ac...</td>\n",
       "    </tr>\n",
       "    <tr>\n",
       "      <th>30</th>\n",
       "      <td>DEP_DEL15</td>\n",
       "      <td>Departure Delay Indicator, 15 Minutes or More ...</td>\n",
       "    </tr>\n",
       "    <tr>\n",
       "      <th>31</th>\n",
       "      <td>DEP_DELAY_GROUP</td>\n",
       "      <td>Departure Delay intervals, every (15 minutes f...</td>\n",
       "    </tr>\n",
       "    <tr>\n",
       "      <th>32</th>\n",
       "      <td>DEP_TIME_BLK</td>\n",
       "      <td>CRS Departure Time Block, Hourly Intervals</td>\n",
       "    </tr>\n",
       "    <tr>\n",
       "      <th>33</th>\n",
       "      <td>CRS_ARR_TIME</td>\n",
       "      <td>CRS Arrival Time (local time: hhmm)</td>\n",
       "    </tr>\n",
       "    <tr>\n",
       "      <th>34</th>\n",
       "      <td>ARR_TIME</td>\n",
       "      <td>Actual Arrival Time (local time: hhmm)</td>\n",
       "    </tr>\n",
       "    <tr>\n",
       "      <th>35</th>\n",
       "      <td>ARR_DELAY</td>\n",
       "      <td>Difference in minutes between scheduled and ac...</td>\n",
       "    </tr>\n",
       "    <tr>\n",
       "      <th>36</th>\n",
       "      <td>ARR_DELAY_NEW</td>\n",
       "      <td>Difference in minutes between scheduled and ac...</td>\n",
       "    </tr>\n",
       "    <tr>\n",
       "      <th>37</th>\n",
       "      <td>ARR_DEL15</td>\n",
       "      <td>Arrival Delay Indicator, 15 Minutes or More (1...</td>\n",
       "    </tr>\n",
       "    <tr>\n",
       "      <th>38</th>\n",
       "      <td>ARR_DELAY_GROUP</td>\n",
       "      <td>Arrival Delay intervals, every (15-minutes fro...</td>\n",
       "    </tr>\n",
       "    <tr>\n",
       "      <th>39</th>\n",
       "      <td>ARR_TIME_BLK</td>\n",
       "      <td>CRS Arrival Time Block, Hourly Intervals</td>\n",
       "    </tr>\n",
       "    <tr>\n",
       "      <th>40</th>\n",
       "      <td>CANCELLED</td>\n",
       "      <td>Cancelled Flight Indicator (1=Yes)</td>\n",
       "    </tr>\n",
       "    <tr>\n",
       "      <th>41</th>\n",
       "      <td>CANCELLATION_CODE</td>\n",
       "      <td>Specifies The Reason For Cancellation</td>\n",
       "    </tr>\n",
       "    <tr>\n",
       "      <th>42</th>\n",
       "      <td>DIVERTED</td>\n",
       "      <td>Diverted Flight Indicator (1=Yes)</td>\n",
       "    </tr>\n",
       "    <tr>\n",
       "      <th>43</th>\n",
       "      <td>CRS_ELAPSED_TIME</td>\n",
       "      <td>CRS Elapsed Time of Flight, in Minutes</td>\n",
       "    </tr>\n",
       "    <tr>\n",
       "      <th>44</th>\n",
       "      <td>ACTUAL_ELAPSED_TIME</td>\n",
       "      <td>Elapsed Time of Flight, in Minutes</td>\n",
       "    </tr>\n",
       "    <tr>\n",
       "      <th>45</th>\n",
       "      <td>AIR_TIME</td>\n",
       "      <td>Flight Time, in Minutes</td>\n",
       "    </tr>\n",
       "    <tr>\n",
       "      <th>46</th>\n",
       "      <td>FLIGHTS</td>\n",
       "      <td>Number of Flights</td>\n",
       "    </tr>\n",
       "    <tr>\n",
       "      <th>47</th>\n",
       "      <td>DISTANCE</td>\n",
       "      <td>Distance between airports (miles)</td>\n",
       "    </tr>\n",
       "    <tr>\n",
       "      <th>48</th>\n",
       "      <td>DISTANCE_GROUP</td>\n",
       "      <td>Distance Intervals, every 250 Miles, for Fligh...</td>\n",
       "    </tr>\n",
       "    <tr>\n",
       "      <th>49</th>\n",
       "      <td>CARRIER_DELAY</td>\n",
       "      <td>Carrier Delay, in Minutes</td>\n",
       "    </tr>\n",
       "    <tr>\n",
       "      <th>50</th>\n",
       "      <td>WEATHER_DELAY</td>\n",
       "      <td>Weather Delay, in Minutes</td>\n",
       "    </tr>\n",
       "    <tr>\n",
       "      <th>51</th>\n",
       "      <td>NAS_DELAY</td>\n",
       "      <td>National Air System Delay, in Minutes</td>\n",
       "    </tr>\n",
       "    <tr>\n",
       "      <th>52</th>\n",
       "      <td>SECURITY_DELAY</td>\n",
       "      <td>Security Delay, in Minutes</td>\n",
       "    </tr>\n",
       "    <tr>\n",
       "      <th>53</th>\n",
       "      <td>LATE_AIRCRAFT_DELAY</td>\n",
       "      <td>Late Aircraft Delay, in Minutes</td>\n",
       "    </tr>\n",
       "  </tbody>\n",
       "</table>\n",
       "</div>"
      ],
      "text/plain": [
       "           SYS_FIELD_NAME                                         FIELD_DESC\n",
       "0                    YEAR                                               Year\n",
       "1                 QUARTER                                      Quarter (1-4)\n",
       "2                   MONTH                                              Month\n",
       "3            DAY_OF_MONTH                                       Day of Month\n",
       "4             DAY_OF_WEEK                                        Day of Week\n",
       "5                 FL_DATE                             Flight Date (yyyymmdd)\n",
       "6       OP_UNIQUE_CARRIER  Unique Carrier Code. When the same code has be...\n",
       "7   OP_CARRIER_AIRLINE_ID  An identification number assigned by US DOT to...\n",
       "8              OP_CARRIER  Code assigned by IATA and commonly used to ide...\n",
       "9                TAIL_NUM                                        Tail Number\n",
       "10      OP_CARRIER_FL_NUM                                      Flight Number\n",
       "11      ORIGIN_AIRPORT_ID  Origin Airport, Airport ID. An identification ...\n",
       "12  ORIGIN_AIRPORT_SEQ_ID  Origin Airport, Airport Sequence ID. An identi...\n",
       "13                 ORIGIN                                     Origin Airport\n",
       "14       ORIGIN_STATE_ABR                         Origin Airport, State Code\n",
       "15      ORIGIN_STATE_FIPS                         Origin Airport, State Fips\n",
       "16        ORIGIN_STATE_NM                         Origin Airport, State Name\n",
       "17             ORIGIN_WAC                    Origin Airport, World Area Code\n",
       "18        DEST_AIRPORT_ID  Destination Airport, Airport ID. An identifica...\n",
       "19    DEST_AIRPORT_SEQ_ID  Destination Airport, Airport Sequence ID. An i...\n",
       "20                   DEST                                Destination Airport\n",
       "21         DEST_CITY_NAME                     Destination Airport, City Name\n",
       "22         DEST_STATE_ABR                    Destination Airport, State Code\n",
       "23        DEST_STATE_FIPS                    Destination Airport, State Fips\n",
       "24          DEST_STATE_NM                    Destination Airport, State Name\n",
       "25               DEST_WAC               Destination Airport, World Area Code\n",
       "26           CRS_DEP_TIME              CRS Departure Time (local time: hhmm)\n",
       "27               DEP_TIME           Actual Departure Time (local time: hhmm)\n",
       "28              DEP_DELAY  Difference in minutes between scheduled and ac...\n",
       "29          DEP_DELAY_NEW  Difference in minutes between scheduled and ac...\n",
       "30              DEP_DEL15  Departure Delay Indicator, 15 Minutes or More ...\n",
       "31        DEP_DELAY_GROUP  Departure Delay intervals, every (15 minutes f...\n",
       "32           DEP_TIME_BLK         CRS Departure Time Block, Hourly Intervals\n",
       "33           CRS_ARR_TIME                CRS Arrival Time (local time: hhmm)\n",
       "34               ARR_TIME             Actual Arrival Time (local time: hhmm)\n",
       "35              ARR_DELAY  Difference in minutes between scheduled and ac...\n",
       "36          ARR_DELAY_NEW  Difference in minutes between scheduled and ac...\n",
       "37              ARR_DEL15  Arrival Delay Indicator, 15 Minutes or More (1...\n",
       "38        ARR_DELAY_GROUP  Arrival Delay intervals, every (15-minutes fro...\n",
       "39           ARR_TIME_BLK           CRS Arrival Time Block, Hourly Intervals\n",
       "40              CANCELLED                 Cancelled Flight Indicator (1=Yes)\n",
       "41      CANCELLATION_CODE              Specifies The Reason For Cancellation\n",
       "42               DIVERTED                  Diverted Flight Indicator (1=Yes)\n",
       "43       CRS_ELAPSED_TIME             CRS Elapsed Time of Flight, in Minutes\n",
       "44    ACTUAL_ELAPSED_TIME                 Elapsed Time of Flight, in Minutes\n",
       "45               AIR_TIME                            Flight Time, in Minutes\n",
       "46                FLIGHTS                                  Number of Flights\n",
       "47               DISTANCE                  Distance between airports (miles)\n",
       "48         DISTANCE_GROUP  Distance Intervals, every 250 Miles, for Fligh...\n",
       "49          CARRIER_DELAY                          Carrier Delay, in Minutes\n",
       "50          WEATHER_DELAY                          Weather Delay, in Minutes\n",
       "51              NAS_DELAY              National Air System Delay, in Minutes\n",
       "52         SECURITY_DELAY                         Security Delay, in Minutes\n",
       "53    LATE_AIRCRAFT_DELAY                    Late Aircraft Delay, in Minutes"
      ]
     },
     "execution_count": 2,
     "metadata": {},
     "output_type": "execute_result"
    }
   ],
   "source": [
    "# documentation about features\n",
    "\n",
    "docs = pd.read_csv('Documentation.csv')\n",
    "docs"
   ]
  },
  {
   "cell_type": "markdown",
   "id": "02039fe1",
   "metadata": {},
   "source": [
    "### Importing the data"
   ]
  },
  {
   "cell_type": "code",
   "execution_count": 3,
   "id": "60d5a195",
   "metadata": {},
   "outputs": [],
   "source": [
    "data1 = pd.read_csv('JUNE_T_ONTIME_REPORTING.csv')\n",
    "data2 = pd.read_csv('JULY_T_ONTIME_REPORTING.csv')\n",
    "data3 = pd.read_csv('AUGUST_T_ONTIME_REPORTING.csv')"
   ]
  },
  {
   "cell_type": "code",
   "execution_count": 4,
   "id": "fce86cc9",
   "metadata": {},
   "outputs": [
    {
     "data": {
      "text/html": [
       "<div>\n",
       "<style scoped>\n",
       "    .dataframe tbody tr th:only-of-type {\n",
       "        vertical-align: middle;\n",
       "    }\n",
       "\n",
       "    .dataframe tbody tr th {\n",
       "        vertical-align: top;\n",
       "    }\n",
       "\n",
       "    .dataframe thead th {\n",
       "        text-align: right;\n",
       "    }\n",
       "</style>\n",
       "<table border=\"1\" class=\"dataframe\">\n",
       "  <thead>\n",
       "    <tr style=\"text-align: right;\">\n",
       "      <th></th>\n",
       "      <th>YEAR</th>\n",
       "      <th>QUARTER</th>\n",
       "      <th>MONTH</th>\n",
       "      <th>DAY_OF_MONTH</th>\n",
       "      <th>DAY_OF_WEEK</th>\n",
       "      <th>FL_DATE</th>\n",
       "      <th>OP_UNIQUE_CARRIER</th>\n",
       "      <th>OP_CARRIER_AIRLINE_ID</th>\n",
       "      <th>OP_CARRIER</th>\n",
       "      <th>TAIL_NUM</th>\n",
       "      <th>...</th>\n",
       "      <th>ACTUAL_ELAPSED_TIME</th>\n",
       "      <th>AIR_TIME</th>\n",
       "      <th>FLIGHTS</th>\n",
       "      <th>DISTANCE</th>\n",
       "      <th>DISTANCE_GROUP</th>\n",
       "      <th>CARRIER_DELAY</th>\n",
       "      <th>WEATHER_DELAY</th>\n",
       "      <th>NAS_DELAY</th>\n",
       "      <th>SECURITY_DELAY</th>\n",
       "      <th>LATE_AIRCRAFT_DELAY</th>\n",
       "    </tr>\n",
       "  </thead>\n",
       "  <tbody>\n",
       "    <tr>\n",
       "      <th>0</th>\n",
       "      <td>2023</td>\n",
       "      <td>2</td>\n",
       "      <td>6</td>\n",
       "      <td>1</td>\n",
       "      <td>4</td>\n",
       "      <td>6/1/2023 12:00:00 AM</td>\n",
       "      <td>9E</td>\n",
       "      <td>20363</td>\n",
       "      <td>9E</td>\n",
       "      <td>N131EV</td>\n",
       "      <td>...</td>\n",
       "      <td>39.0</td>\n",
       "      <td>24.0</td>\n",
       "      <td>1.0</td>\n",
       "      <td>83.0</td>\n",
       "      <td>1</td>\n",
       "      <td>NaN</td>\n",
       "      <td>NaN</td>\n",
       "      <td>NaN</td>\n",
       "      <td>NaN</td>\n",
       "      <td>NaN</td>\n",
       "    </tr>\n",
       "    <tr>\n",
       "      <th>1</th>\n",
       "      <td>2023</td>\n",
       "      <td>2</td>\n",
       "      <td>6</td>\n",
       "      <td>1</td>\n",
       "      <td>4</td>\n",
       "      <td>6/1/2023 12:00:00 AM</td>\n",
       "      <td>9E</td>\n",
       "      <td>20363</td>\n",
       "      <td>9E</td>\n",
       "      <td>N131EV</td>\n",
       "      <td>...</td>\n",
       "      <td>44.0</td>\n",
       "      <td>22.0</td>\n",
       "      <td>1.0</td>\n",
       "      <td>83.0</td>\n",
       "      <td>1</td>\n",
       "      <td>NaN</td>\n",
       "      <td>NaN</td>\n",
       "      <td>NaN</td>\n",
       "      <td>NaN</td>\n",
       "      <td>NaN</td>\n",
       "    </tr>\n",
       "    <tr>\n",
       "      <th>2</th>\n",
       "      <td>2023</td>\n",
       "      <td>2</td>\n",
       "      <td>6</td>\n",
       "      <td>1</td>\n",
       "      <td>4</td>\n",
       "      <td>6/1/2023 12:00:00 AM</td>\n",
       "      <td>9E</td>\n",
       "      <td>20363</td>\n",
       "      <td>9E</td>\n",
       "      <td>N131EV</td>\n",
       "      <td>...</td>\n",
       "      <td>41.0</td>\n",
       "      <td>22.0</td>\n",
       "      <td>1.0</td>\n",
       "      <td>83.0</td>\n",
       "      <td>1</td>\n",
       "      <td>NaN</td>\n",
       "      <td>NaN</td>\n",
       "      <td>NaN</td>\n",
       "      <td>NaN</td>\n",
       "      <td>NaN</td>\n",
       "    </tr>\n",
       "    <tr>\n",
       "      <th>3</th>\n",
       "      <td>2023</td>\n",
       "      <td>2</td>\n",
       "      <td>6</td>\n",
       "      <td>1</td>\n",
       "      <td>4</td>\n",
       "      <td>6/1/2023 12:00:00 AM</td>\n",
       "      <td>9E</td>\n",
       "      <td>20363</td>\n",
       "      <td>9E</td>\n",
       "      <td>N131EV</td>\n",
       "      <td>...</td>\n",
       "      <td>34.0</td>\n",
       "      <td>20.0</td>\n",
       "      <td>1.0</td>\n",
       "      <td>83.0</td>\n",
       "      <td>1</td>\n",
       "      <td>NaN</td>\n",
       "      <td>NaN</td>\n",
       "      <td>NaN</td>\n",
       "      <td>NaN</td>\n",
       "      <td>NaN</td>\n",
       "    </tr>\n",
       "    <tr>\n",
       "      <th>4</th>\n",
       "      <td>2023</td>\n",
       "      <td>2</td>\n",
       "      <td>6</td>\n",
       "      <td>1</td>\n",
       "      <td>4</td>\n",
       "      <td>6/1/2023 12:00:00 AM</td>\n",
       "      <td>9E</td>\n",
       "      <td>20363</td>\n",
       "      <td>9E</td>\n",
       "      <td>N131EV</td>\n",
       "      <td>...</td>\n",
       "      <td>53.0</td>\n",
       "      <td>37.0</td>\n",
       "      <td>1.0</td>\n",
       "      <td>152.0</td>\n",
       "      <td>1</td>\n",
       "      <td>NaN</td>\n",
       "      <td>NaN</td>\n",
       "      <td>NaN</td>\n",
       "      <td>NaN</td>\n",
       "      <td>NaN</td>\n",
       "    </tr>\n",
       "  </tbody>\n",
       "</table>\n",
       "<p>5 rows × 54 columns</p>\n",
       "</div>"
      ],
      "text/plain": [
       "   YEAR  QUARTER  MONTH  DAY_OF_MONTH  DAY_OF_WEEK               FL_DATE  \\\n",
       "0  2023        2      6             1            4  6/1/2023 12:00:00 AM   \n",
       "1  2023        2      6             1            4  6/1/2023 12:00:00 AM   \n",
       "2  2023        2      6             1            4  6/1/2023 12:00:00 AM   \n",
       "3  2023        2      6             1            4  6/1/2023 12:00:00 AM   \n",
       "4  2023        2      6             1            4  6/1/2023 12:00:00 AM   \n",
       "\n",
       "  OP_UNIQUE_CARRIER  OP_CARRIER_AIRLINE_ID OP_CARRIER TAIL_NUM  ...  \\\n",
       "0                9E                  20363         9E   N131EV  ...   \n",
       "1                9E                  20363         9E   N131EV  ...   \n",
       "2                9E                  20363         9E   N131EV  ...   \n",
       "3                9E                  20363         9E   N131EV  ...   \n",
       "4                9E                  20363         9E   N131EV  ...   \n",
       "\n",
       "   ACTUAL_ELAPSED_TIME  AIR_TIME  FLIGHTS DISTANCE DISTANCE_GROUP  \\\n",
       "0                 39.0      24.0      1.0     83.0              1   \n",
       "1                 44.0      22.0      1.0     83.0              1   \n",
       "2                 41.0      22.0      1.0     83.0              1   \n",
       "3                 34.0      20.0      1.0     83.0              1   \n",
       "4                 53.0      37.0      1.0    152.0              1   \n",
       "\n",
       "   CARRIER_DELAY WEATHER_DELAY  NAS_DELAY  SECURITY_DELAY  LATE_AIRCRAFT_DELAY  \n",
       "0            NaN           NaN        NaN             NaN                  NaN  \n",
       "1            NaN           NaN        NaN             NaN                  NaN  \n",
       "2            NaN           NaN        NaN             NaN                  NaN  \n",
       "3            NaN           NaN        NaN             NaN                  NaN  \n",
       "4            NaN           NaN        NaN             NaN                  NaN  \n",
       "\n",
       "[5 rows x 54 columns]"
      ]
     },
     "execution_count": 4,
     "metadata": {},
     "output_type": "execute_result"
    }
   ],
   "source": [
    "data1.head()"
   ]
  },
  {
   "cell_type": "code",
   "execution_count": 5,
   "id": "11f0eca7",
   "metadata": {},
   "outputs": [
    {
     "data": {
      "text/plain": [
       "Index(['YEAR', 'QUARTER', 'MONTH', 'DAY_OF_MONTH', 'DAY_OF_WEEK', 'FL_DATE',\n",
       "       'OP_UNIQUE_CARRIER', 'OP_CARRIER_AIRLINE_ID', 'OP_CARRIER', 'TAIL_NUM',\n",
       "       'OP_CARRIER_FL_NUM', 'ORIGIN_AIRPORT_ID', 'ORIGIN_AIRPORT_SEQ_ID',\n",
       "       'ORIGIN', 'ORIGIN_STATE_ABR', 'ORIGIN_STATE_FIPS', 'ORIGIN_STATE_NM',\n",
       "       'ORIGIN_WAC', 'DEST_AIRPORT_ID', 'DEST_AIRPORT_SEQ_ID', 'DEST',\n",
       "       'DEST_CITY_NAME', 'DEST_STATE_ABR', 'DEST_STATE_FIPS', 'DEST_STATE_NM',\n",
       "       'DEST_WAC', 'CRS_DEP_TIME', 'DEP_TIME', 'DEP_DELAY', 'DEP_DELAY_NEW',\n",
       "       'DEP_DEL15', 'DEP_DELAY_GROUP', 'DEP_TIME_BLK', 'CRS_ARR_TIME',\n",
       "       'ARR_TIME', 'ARR_DELAY', 'ARR_DELAY_NEW', 'ARR_DEL15',\n",
       "       'ARR_DELAY_GROUP', 'ARR_TIME_BLK', 'CANCELLED', 'CANCELLATION_CODE',\n",
       "       'DIVERTED', 'CRS_ELAPSED_TIME', 'ACTUAL_ELAPSED_TIME', 'AIR_TIME',\n",
       "       'FLIGHTS', 'DISTANCE', 'DISTANCE_GROUP', 'CARRIER_DELAY',\n",
       "       'WEATHER_DELAY', 'NAS_DELAY', 'SECURITY_DELAY', 'LATE_AIRCRAFT_DELAY'],\n",
       "      dtype='object')"
      ]
     },
     "execution_count": 5,
     "metadata": {},
     "output_type": "execute_result"
    }
   ],
   "source": [
    "data1.columns"
   ]
  },
  {
   "cell_type": "markdown",
   "id": "ec2dcad3",
   "metadata": {},
   "source": [
    "## Deleting the rows without importance"
   ]
  },
  {
   "cell_type": "code",
   "execution_count": 6,
   "id": "021e0e1f",
   "metadata": {},
   "outputs": [],
   "source": [
    "# concatenation the 3 data sets\n",
    "data = pd.concat([data1,data2,data3], ignore_index = True)"
   ]
  },
  {
   "cell_type": "code",
   "execution_count": 7,
   "id": "58f80159",
   "metadata": {},
   "outputs": [],
   "source": [
    "data.drop(['YEAR','QUARTER','FL_DATE','OP_UNIQUE_CARRIER','OP_CARRIER_AIRLINE_ID','TAIL_NUM','ORIGIN_AIRPORT_ID',\n",
    "           'ORIGIN_AIRPORT_SEQ_ID','ORIGIN_STATE_FIPS','ORIGIN_STATE_NM','ORIGIN_WAC','DEST_AIRPORT_ID',\n",
    "            'DEST_AIRPORT_SEQ_ID','DEST_CITY_NAME','DEST_STATE_FIPS','DEST_STATE_NM',\n",
    "           'DEST_WAC'], axis = 1, inplace = True)"
   ]
  },
  {
   "cell_type": "code",
   "execution_count": 8,
   "id": "3f6e9bd8",
   "metadata": {},
   "outputs": [
    {
     "data": {
      "text/plain": [
       "(1782115, 37)"
      ]
     },
     "execution_count": 8,
     "metadata": {},
     "output_type": "execute_result"
    }
   ],
   "source": [
    "data.shape"
   ]
  },
  {
   "cell_type": "code",
   "execution_count": 9,
   "id": "e0ba5eab",
   "metadata": {},
   "outputs": [
    {
     "data": {
      "text/html": [
       "<div>\n",
       "<style scoped>\n",
       "    .dataframe tbody tr th:only-of-type {\n",
       "        vertical-align: middle;\n",
       "    }\n",
       "\n",
       "    .dataframe tbody tr th {\n",
       "        vertical-align: top;\n",
       "    }\n",
       "\n",
       "    .dataframe thead th {\n",
       "        text-align: right;\n",
       "    }\n",
       "</style>\n",
       "<table border=\"1\" class=\"dataframe\">\n",
       "  <thead>\n",
       "    <tr style=\"text-align: right;\">\n",
       "      <th></th>\n",
       "      <th>MONTH</th>\n",
       "      <th>DAY_OF_MONTH</th>\n",
       "      <th>DAY_OF_WEEK</th>\n",
       "      <th>OP_CARRIER</th>\n",
       "      <th>OP_CARRIER_FL_NUM</th>\n",
       "      <th>ORIGIN</th>\n",
       "      <th>ORIGIN_STATE_ABR</th>\n",
       "      <th>DEST</th>\n",
       "      <th>DEST_STATE_ABR</th>\n",
       "      <th>CRS_DEP_TIME</th>\n",
       "      <th>...</th>\n",
       "      <th>ACTUAL_ELAPSED_TIME</th>\n",
       "      <th>AIR_TIME</th>\n",
       "      <th>FLIGHTS</th>\n",
       "      <th>DISTANCE</th>\n",
       "      <th>DISTANCE_GROUP</th>\n",
       "      <th>CARRIER_DELAY</th>\n",
       "      <th>WEATHER_DELAY</th>\n",
       "      <th>NAS_DELAY</th>\n",
       "      <th>SECURITY_DELAY</th>\n",
       "      <th>LATE_AIRCRAFT_DELAY</th>\n",
       "    </tr>\n",
       "  </thead>\n",
       "  <tbody>\n",
       "    <tr>\n",
       "      <th>0</th>\n",
       "      <td>6</td>\n",
       "      <td>1</td>\n",
       "      <td>4</td>\n",
       "      <td>9E</td>\n",
       "      <td>4726</td>\n",
       "      <td>ATL</td>\n",
       "      <td>GA</td>\n",
       "      <td>CSG</td>\n",
       "      <td>GA</td>\n",
       "      <td>1510</td>\n",
       "      <td>...</td>\n",
       "      <td>39.0</td>\n",
       "      <td>24.0</td>\n",
       "      <td>1.0</td>\n",
       "      <td>83.0</td>\n",
       "      <td>1</td>\n",
       "      <td>NaN</td>\n",
       "      <td>NaN</td>\n",
       "      <td>NaN</td>\n",
       "      <td>NaN</td>\n",
       "      <td>NaN</td>\n",
       "    </tr>\n",
       "    <tr>\n",
       "      <th>1</th>\n",
       "      <td>6</td>\n",
       "      <td>1</td>\n",
       "      <td>4</td>\n",
       "      <td>9E</td>\n",
       "      <td>4726</td>\n",
       "      <td>CSG</td>\n",
       "      <td>GA</td>\n",
       "      <td>ATL</td>\n",
       "      <td>GA</td>\n",
       "      <td>1650</td>\n",
       "      <td>...</td>\n",
       "      <td>44.0</td>\n",
       "      <td>22.0</td>\n",
       "      <td>1.0</td>\n",
       "      <td>83.0</td>\n",
       "      <td>1</td>\n",
       "      <td>NaN</td>\n",
       "      <td>NaN</td>\n",
       "      <td>NaN</td>\n",
       "      <td>NaN</td>\n",
       "      <td>NaN</td>\n",
       "    </tr>\n",
       "    <tr>\n",
       "      <th>2</th>\n",
       "      <td>6</td>\n",
       "      <td>1</td>\n",
       "      <td>4</td>\n",
       "      <td>9E</td>\n",
       "      <td>5061</td>\n",
       "      <td>ATL</td>\n",
       "      <td>GA</td>\n",
       "      <td>CSG</td>\n",
       "      <td>GA</td>\n",
       "      <td>1105</td>\n",
       "      <td>...</td>\n",
       "      <td>41.0</td>\n",
       "      <td>22.0</td>\n",
       "      <td>1.0</td>\n",
       "      <td>83.0</td>\n",
       "      <td>1</td>\n",
       "      <td>NaN</td>\n",
       "      <td>NaN</td>\n",
       "      <td>NaN</td>\n",
       "      <td>NaN</td>\n",
       "      <td>NaN</td>\n",
       "    </tr>\n",
       "    <tr>\n",
       "      <th>3</th>\n",
       "      <td>6</td>\n",
       "      <td>1</td>\n",
       "      <td>4</td>\n",
       "      <td>9E</td>\n",
       "      <td>5061</td>\n",
       "      <td>CSG</td>\n",
       "      <td>GA</td>\n",
       "      <td>ATL</td>\n",
       "      <td>GA</td>\n",
       "      <td>1240</td>\n",
       "      <td>...</td>\n",
       "      <td>34.0</td>\n",
       "      <td>20.0</td>\n",
       "      <td>1.0</td>\n",
       "      <td>83.0</td>\n",
       "      <td>1</td>\n",
       "      <td>NaN</td>\n",
       "      <td>NaN</td>\n",
       "      <td>NaN</td>\n",
       "      <td>NaN</td>\n",
       "      <td>NaN</td>\n",
       "    </tr>\n",
       "    <tr>\n",
       "      <th>4</th>\n",
       "      <td>6</td>\n",
       "      <td>1</td>\n",
       "      <td>4</td>\n",
       "      <td>9E</td>\n",
       "      <td>5107</td>\n",
       "      <td>ATL</td>\n",
       "      <td>GA</td>\n",
       "      <td>TYS</td>\n",
       "      <td>TN</td>\n",
       "      <td>1930</td>\n",
       "      <td>...</td>\n",
       "      <td>53.0</td>\n",
       "      <td>37.0</td>\n",
       "      <td>1.0</td>\n",
       "      <td>152.0</td>\n",
       "      <td>1</td>\n",
       "      <td>NaN</td>\n",
       "      <td>NaN</td>\n",
       "      <td>NaN</td>\n",
       "      <td>NaN</td>\n",
       "      <td>NaN</td>\n",
       "    </tr>\n",
       "  </tbody>\n",
       "</table>\n",
       "<p>5 rows × 37 columns</p>\n",
       "</div>"
      ],
      "text/plain": [
       "   MONTH  DAY_OF_MONTH  DAY_OF_WEEK OP_CARRIER  OP_CARRIER_FL_NUM ORIGIN  \\\n",
       "0      6             1            4         9E               4726    ATL   \n",
       "1      6             1            4         9E               4726    CSG   \n",
       "2      6             1            4         9E               5061    ATL   \n",
       "3      6             1            4         9E               5061    CSG   \n",
       "4      6             1            4         9E               5107    ATL   \n",
       "\n",
       "  ORIGIN_STATE_ABR DEST DEST_STATE_ABR  CRS_DEP_TIME  ...  \\\n",
       "0               GA  CSG             GA          1510  ...   \n",
       "1               GA  ATL             GA          1650  ...   \n",
       "2               GA  CSG             GA          1105  ...   \n",
       "3               GA  ATL             GA          1240  ...   \n",
       "4               GA  TYS             TN          1930  ...   \n",
       "\n",
       "   ACTUAL_ELAPSED_TIME  AIR_TIME  FLIGHTS  DISTANCE  DISTANCE_GROUP  \\\n",
       "0                 39.0      24.0      1.0      83.0               1   \n",
       "1                 44.0      22.0      1.0      83.0               1   \n",
       "2                 41.0      22.0      1.0      83.0               1   \n",
       "3                 34.0      20.0      1.0      83.0               1   \n",
       "4                 53.0      37.0      1.0     152.0               1   \n",
       "\n",
       "  CARRIER_DELAY  WEATHER_DELAY  NAS_DELAY  SECURITY_DELAY  LATE_AIRCRAFT_DELAY  \n",
       "0           NaN            NaN        NaN             NaN                  NaN  \n",
       "1           NaN            NaN        NaN             NaN                  NaN  \n",
       "2           NaN            NaN        NaN             NaN                  NaN  \n",
       "3           NaN            NaN        NaN             NaN                  NaN  \n",
       "4           NaN            NaN        NaN             NaN                  NaN  \n",
       "\n",
       "[5 rows x 37 columns]"
      ]
     },
     "execution_count": 9,
     "metadata": {},
     "output_type": "execute_result"
    }
   ],
   "source": [
    "data.head()"
   ]
  },
  {
   "cell_type": "code",
   "execution_count": 10,
   "id": "37b5a9b6",
   "metadata": {},
   "outputs": [
    {
     "data": {
      "text/html": [
       "<div>\n",
       "<style scoped>\n",
       "    .dataframe tbody tr th:only-of-type {\n",
       "        vertical-align: middle;\n",
       "    }\n",
       "\n",
       "    .dataframe tbody tr th {\n",
       "        vertical-align: top;\n",
       "    }\n",
       "\n",
       "    .dataframe thead th {\n",
       "        text-align: right;\n",
       "    }\n",
       "</style>\n",
       "<table border=\"1\" class=\"dataframe\">\n",
       "  <thead>\n",
       "    <tr style=\"text-align: right;\">\n",
       "      <th></th>\n",
       "      <th>MONTH</th>\n",
       "      <th>DAY_OF_MONTH</th>\n",
       "      <th>DAY_OF_WEEK</th>\n",
       "      <th>OP_CARRIER_FL_NUM</th>\n",
       "      <th>CRS_DEP_TIME</th>\n",
       "      <th>DEP_TIME</th>\n",
       "      <th>DEP_DELAY</th>\n",
       "      <th>DEP_DELAY_NEW</th>\n",
       "      <th>DEP_DEL15</th>\n",
       "      <th>DEP_DELAY_GROUP</th>\n",
       "      <th>...</th>\n",
       "      <th>ACTUAL_ELAPSED_TIME</th>\n",
       "      <th>AIR_TIME</th>\n",
       "      <th>FLIGHTS</th>\n",
       "      <th>DISTANCE</th>\n",
       "      <th>DISTANCE_GROUP</th>\n",
       "      <th>CARRIER_DELAY</th>\n",
       "      <th>WEATHER_DELAY</th>\n",
       "      <th>NAS_DELAY</th>\n",
       "      <th>SECURITY_DELAY</th>\n",
       "      <th>LATE_AIRCRAFT_DELAY</th>\n",
       "    </tr>\n",
       "  </thead>\n",
       "  <tbody>\n",
       "    <tr>\n",
       "      <th>count</th>\n",
       "      <td>1.782115e+06</td>\n",
       "      <td>1.782115e+06</td>\n",
       "      <td>1.782115e+06</td>\n",
       "      <td>1.782115e+06</td>\n",
       "      <td>1.782115e+06</td>\n",
       "      <td>1.747664e+06</td>\n",
       "      <td>1.747643e+06</td>\n",
       "      <td>1.747643e+06</td>\n",
       "      <td>1.747643e+06</td>\n",
       "      <td>1.747643e+06</td>\n",
       "      <td>...</td>\n",
       "      <td>1.740004e+06</td>\n",
       "      <td>1.740004e+06</td>\n",
       "      <td>1782115.0</td>\n",
       "      <td>1.782115e+06</td>\n",
       "      <td>1.782115e+06</td>\n",
       "      <td>447787.000000</td>\n",
       "      <td>447787.000000</td>\n",
       "      <td>447787.000000</td>\n",
       "      <td>447787.000000</td>\n",
       "      <td>447787.000000</td>\n",
       "    </tr>\n",
       "    <tr>\n",
       "      <th>mean</th>\n",
       "      <td>7.014435e+00</td>\n",
       "      <td>1.591311e+01</td>\n",
       "      <td>3.981847e+00</td>\n",
       "      <td>2.324405e+03</td>\n",
       "      <td>1.338480e+03</td>\n",
       "      <td>1.338629e+03</td>\n",
       "      <td>1.811250e+01</td>\n",
       "      <td>2.079585e+01</td>\n",
       "      <td>2.595656e-01</td>\n",
       "      <td>4.717897e-01</td>\n",
       "      <td>...</td>\n",
       "      <td>1.404694e+02</td>\n",
       "      <td>1.147076e+02</td>\n",
       "      <td>1.0</td>\n",
       "      <td>8.414997e+02</td>\n",
       "      <td>3.835936e+00</td>\n",
       "      <td>26.527691</td>\n",
       "      <td>4.170525</td>\n",
       "      <td>13.093929</td>\n",
       "      <td>0.138206</td>\n",
       "      <td>31.982657</td>\n",
       "    </tr>\n",
       "    <tr>\n",
       "      <th>std</th>\n",
       "      <td>8.136746e-01</td>\n",
       "      <td>8.836267e+00</td>\n",
       "      <td>1.986398e+00</td>\n",
       "      <td>1.576311e+03</td>\n",
       "      <td>5.035416e+02</td>\n",
       "      <td>5.258220e+02</td>\n",
       "      <td>6.598010e+01</td>\n",
       "      <td>6.503606e+01</td>\n",
       "      <td>4.383964e-01</td>\n",
       "      <td>2.651037e+00</td>\n",
       "      <td>...</td>\n",
       "      <td>7.334729e+01</td>\n",
       "      <td>7.078099e+01</td>\n",
       "      <td>0.0</td>\n",
       "      <td>6.087854e+02</td>\n",
       "      <td>2.389837e+00</td>\n",
       "      <td>82.034264</td>\n",
       "      <td>30.069477</td>\n",
       "      <td>34.333673</td>\n",
       "      <td>3.055652</td>\n",
       "      <td>68.983617</td>\n",
       "    </tr>\n",
       "    <tr>\n",
       "      <th>min</th>\n",
       "      <td>6.000000e+00</td>\n",
       "      <td>1.000000e+00</td>\n",
       "      <td>1.000000e+00</td>\n",
       "      <td>1.000000e+00</td>\n",
       "      <td>1.000000e+00</td>\n",
       "      <td>1.000000e+00</td>\n",
       "      <td>-5.900000e+01</td>\n",
       "      <td>0.000000e+00</td>\n",
       "      <td>0.000000e+00</td>\n",
       "      <td>-2.000000e+00</td>\n",
       "      <td>...</td>\n",
       "      <td>1.500000e+01</td>\n",
       "      <td>8.000000e+00</td>\n",
       "      <td>1.0</td>\n",
       "      <td>3.100000e+01</td>\n",
       "      <td>1.000000e+00</td>\n",
       "      <td>0.000000</td>\n",
       "      <td>0.000000</td>\n",
       "      <td>0.000000</td>\n",
       "      <td>0.000000</td>\n",
       "      <td>0.000000</td>\n",
       "    </tr>\n",
       "    <tr>\n",
       "      <th>25%</th>\n",
       "      <td>6.000000e+00</td>\n",
       "      <td>8.000000e+00</td>\n",
       "      <td>2.000000e+00</td>\n",
       "      <td>1.044000e+03</td>\n",
       "      <td>9.090000e+02</td>\n",
       "      <td>9.060000e+02</td>\n",
       "      <td>-5.000000e+00</td>\n",
       "      <td>0.000000e+00</td>\n",
       "      <td>0.000000e+00</td>\n",
       "      <td>-1.000000e+00</td>\n",
       "      <td>...</td>\n",
       "      <td>8.600000e+01</td>\n",
       "      <td>6.300000e+01</td>\n",
       "      <td>1.0</td>\n",
       "      <td>3.990000e+02</td>\n",
       "      <td>2.000000e+00</td>\n",
       "      <td>0.000000</td>\n",
       "      <td>0.000000</td>\n",
       "      <td>0.000000</td>\n",
       "      <td>0.000000</td>\n",
       "      <td>0.000000</td>\n",
       "    </tr>\n",
       "    <tr>\n",
       "      <th>50%</th>\n",
       "      <td>7.000000e+00</td>\n",
       "      <td>1.600000e+01</td>\n",
       "      <td>4.000000e+00</td>\n",
       "      <td>2.085000e+03</td>\n",
       "      <td>1.327000e+03</td>\n",
       "      <td>1.327000e+03</td>\n",
       "      <td>-1.000000e+00</td>\n",
       "      <td>0.000000e+00</td>\n",
       "      <td>0.000000e+00</td>\n",
       "      <td>-1.000000e+00</td>\n",
       "      <td>...</td>\n",
       "      <td>1.230000e+02</td>\n",
       "      <td>9.700000e+01</td>\n",
       "      <td>1.0</td>\n",
       "      <td>6.790000e+02</td>\n",
       "      <td>3.000000e+00</td>\n",
       "      <td>5.000000</td>\n",
       "      <td>0.000000</td>\n",
       "      <td>0.000000</td>\n",
       "      <td>0.000000</td>\n",
       "      <td>8.000000</td>\n",
       "    </tr>\n",
       "    <tr>\n",
       "      <th>75%</th>\n",
       "      <td>8.000000e+00</td>\n",
       "      <td>2.400000e+01</td>\n",
       "      <td>6.000000e+00</td>\n",
       "      <td>3.374000e+03</td>\n",
       "      <td>1.750000e+03</td>\n",
       "      <td>1.759000e+03</td>\n",
       "      <td>1.600000e+01</td>\n",
       "      <td>1.600000e+01</td>\n",
       "      <td>1.000000e+00</td>\n",
       "      <td>1.000000e+00</td>\n",
       "      <td>...</td>\n",
       "      <td>1.720000e+02</td>\n",
       "      <td>1.440000e+02</td>\n",
       "      <td>1.0</td>\n",
       "      <td>1.072000e+03</td>\n",
       "      <td>5.000000e+00</td>\n",
       "      <td>23.000000</td>\n",
       "      <td>0.000000</td>\n",
       "      <td>15.000000</td>\n",
       "      <td>0.000000</td>\n",
       "      <td>37.000000</td>\n",
       "    </tr>\n",
       "    <tr>\n",
       "      <th>max</th>\n",
       "      <td>8.000000e+00</td>\n",
       "      <td>3.100000e+01</td>\n",
       "      <td>7.000000e+00</td>\n",
       "      <td>8.819000e+03</td>\n",
       "      <td>2.359000e+03</td>\n",
       "      <td>2.400000e+03</td>\n",
       "      <td>3.695000e+03</td>\n",
       "      <td>3.695000e+03</td>\n",
       "      <td>1.000000e+00</td>\n",
       "      <td>1.200000e+01</td>\n",
       "      <td>...</td>\n",
       "      <td>7.950000e+02</td>\n",
       "      <td>6.710000e+02</td>\n",
       "      <td>1.0</td>\n",
       "      <td>5.095000e+03</td>\n",
       "      <td>1.100000e+01</td>\n",
       "      <td>3424.000000</td>\n",
       "      <td>1561.000000</td>\n",
       "      <td>1708.000000</td>\n",
       "      <td>805.000000</td>\n",
       "      <td>3581.000000</td>\n",
       "    </tr>\n",
       "  </tbody>\n",
       "</table>\n",
       "<p>8 rows × 29 columns</p>\n",
       "</div>"
      ],
      "text/plain": [
       "              MONTH  DAY_OF_MONTH   DAY_OF_WEEK  OP_CARRIER_FL_NUM  \\\n",
       "count  1.782115e+06  1.782115e+06  1.782115e+06       1.782115e+06   \n",
       "mean   7.014435e+00  1.591311e+01  3.981847e+00       2.324405e+03   \n",
       "std    8.136746e-01  8.836267e+00  1.986398e+00       1.576311e+03   \n",
       "min    6.000000e+00  1.000000e+00  1.000000e+00       1.000000e+00   \n",
       "25%    6.000000e+00  8.000000e+00  2.000000e+00       1.044000e+03   \n",
       "50%    7.000000e+00  1.600000e+01  4.000000e+00       2.085000e+03   \n",
       "75%    8.000000e+00  2.400000e+01  6.000000e+00       3.374000e+03   \n",
       "max    8.000000e+00  3.100000e+01  7.000000e+00       8.819000e+03   \n",
       "\n",
       "       CRS_DEP_TIME      DEP_TIME     DEP_DELAY  DEP_DELAY_NEW     DEP_DEL15  \\\n",
       "count  1.782115e+06  1.747664e+06  1.747643e+06   1.747643e+06  1.747643e+06   \n",
       "mean   1.338480e+03  1.338629e+03  1.811250e+01   2.079585e+01  2.595656e-01   \n",
       "std    5.035416e+02  5.258220e+02  6.598010e+01   6.503606e+01  4.383964e-01   \n",
       "min    1.000000e+00  1.000000e+00 -5.900000e+01   0.000000e+00  0.000000e+00   \n",
       "25%    9.090000e+02  9.060000e+02 -5.000000e+00   0.000000e+00  0.000000e+00   \n",
       "50%    1.327000e+03  1.327000e+03 -1.000000e+00   0.000000e+00  0.000000e+00   \n",
       "75%    1.750000e+03  1.759000e+03  1.600000e+01   1.600000e+01  1.000000e+00   \n",
       "max    2.359000e+03  2.400000e+03  3.695000e+03   3.695000e+03  1.000000e+00   \n",
       "\n",
       "       DEP_DELAY_GROUP  ...  ACTUAL_ELAPSED_TIME      AIR_TIME    FLIGHTS  \\\n",
       "count     1.747643e+06  ...         1.740004e+06  1.740004e+06  1782115.0   \n",
       "mean      4.717897e-01  ...         1.404694e+02  1.147076e+02        1.0   \n",
       "std       2.651037e+00  ...         7.334729e+01  7.078099e+01        0.0   \n",
       "min      -2.000000e+00  ...         1.500000e+01  8.000000e+00        1.0   \n",
       "25%      -1.000000e+00  ...         8.600000e+01  6.300000e+01        1.0   \n",
       "50%      -1.000000e+00  ...         1.230000e+02  9.700000e+01        1.0   \n",
       "75%       1.000000e+00  ...         1.720000e+02  1.440000e+02        1.0   \n",
       "max       1.200000e+01  ...         7.950000e+02  6.710000e+02        1.0   \n",
       "\n",
       "           DISTANCE  DISTANCE_GROUP  CARRIER_DELAY  WEATHER_DELAY  \\\n",
       "count  1.782115e+06    1.782115e+06  447787.000000  447787.000000   \n",
       "mean   8.414997e+02    3.835936e+00      26.527691       4.170525   \n",
       "std    6.087854e+02    2.389837e+00      82.034264      30.069477   \n",
       "min    3.100000e+01    1.000000e+00       0.000000       0.000000   \n",
       "25%    3.990000e+02    2.000000e+00       0.000000       0.000000   \n",
       "50%    6.790000e+02    3.000000e+00       5.000000       0.000000   \n",
       "75%    1.072000e+03    5.000000e+00      23.000000       0.000000   \n",
       "max    5.095000e+03    1.100000e+01    3424.000000    1561.000000   \n",
       "\n",
       "           NAS_DELAY  SECURITY_DELAY  LATE_AIRCRAFT_DELAY  \n",
       "count  447787.000000   447787.000000        447787.000000  \n",
       "mean       13.093929        0.138206            31.982657  \n",
       "std        34.333673        3.055652            68.983617  \n",
       "min         0.000000        0.000000             0.000000  \n",
       "25%         0.000000        0.000000             0.000000  \n",
       "50%         0.000000        0.000000             8.000000  \n",
       "75%        15.000000        0.000000            37.000000  \n",
       "max      1708.000000      805.000000          3581.000000  \n",
       "\n",
       "[8 rows x 29 columns]"
      ]
     },
     "execution_count": 10,
     "metadata": {},
     "output_type": "execute_result"
    }
   ],
   "source": [
    "data.describe()"
   ]
  },
  {
   "cell_type": "code",
   "execution_count": 11,
   "id": "8cdbfdc0",
   "metadata": {},
   "outputs": [
    {
     "data": {
      "text/plain": [
       "array(['9E', 'AA', 'AS', 'B6', 'DL', 'F9', 'G4', 'HA', 'MQ', 'NK', 'OH',\n",
       "       'OO', 'UA', 'WN', 'YX'], dtype=object)"
      ]
     },
     "execution_count": 11,
     "metadata": {},
     "output_type": "execute_result"
    }
   ],
   "source": [
    "data['OP_CARRIER'].unique()"
   ]
  },
  {
   "cell_type": "markdown",
   "id": "abd54bcc",
   "metadata": {},
   "source": [
    "## Checking Missing Data"
   ]
  },
  {
   "cell_type": "code",
   "execution_count": 12,
   "id": "2b935a0e",
   "metadata": {
    "scrolled": false
   },
   "outputs": [
    {
     "data": {
      "text/plain": [
       "MONTH                        0\n",
       "DAY_OF_MONTH                 0\n",
       "DAY_OF_WEEK                  0\n",
       "OP_CARRIER                   0\n",
       "OP_CARRIER_FL_NUM            0\n",
       "ORIGIN                       0\n",
       "ORIGIN_STATE_ABR             0\n",
       "DEST                         0\n",
       "DEST_STATE_ABR               0\n",
       "CRS_DEP_TIME                 0\n",
       "DEP_TIME                 34451\n",
       "DEP_DELAY                34472\n",
       "DEP_DELAY_NEW            34472\n",
       "DEP_DEL15                34472\n",
       "DEP_DELAY_GROUP          34472\n",
       "DEP_TIME_BLK                 0\n",
       "CRS_ARR_TIME                 0\n",
       "ARR_TIME                 36449\n",
       "ARR_DELAY                42111\n",
       "ARR_DELAY_NEW            42111\n",
       "ARR_DEL15                42111\n",
       "ARR_DELAY_GROUP          42111\n",
       "ARR_TIME_BLK                 0\n",
       "CANCELLED                    0\n",
       "CANCELLATION_CODE      1746118\n",
       "DIVERTED                     0\n",
       "CRS_ELAPSED_TIME             0\n",
       "ACTUAL_ELAPSED_TIME      42111\n",
       "AIR_TIME                 42111\n",
       "FLIGHTS                      0\n",
       "DISTANCE                     0\n",
       "DISTANCE_GROUP               0\n",
       "CARRIER_DELAY          1334328\n",
       "WEATHER_DELAY          1334328\n",
       "NAS_DELAY              1334328\n",
       "SECURITY_DELAY         1334328\n",
       "LATE_AIRCRAFT_DELAY    1334328\n",
       "dtype: int64"
      ]
     },
     "execution_count": 12,
     "metadata": {},
     "output_type": "execute_result"
    }
   ],
   "source": [
    "data.isnull().sum()"
   ]
  },
  {
   "cell_type": "markdown",
   "id": "e4911edf",
   "metadata": {},
   "source": [
    "##### Visualising the missing data"
   ]
  },
  {
   "cell_type": "code",
   "execution_count": 13,
   "id": "ed722561",
   "metadata": {
    "scrolled": false
   },
   "outputs": [
    {
     "data": {
      "text/plain": [
       "<Axes: >"
      ]
     },
     "execution_count": 13,
     "metadata": {},
     "output_type": "execute_result"
    },
    {
     "data": {
      "image/png": "[encoded data removed]",
      "text/plain": [
       "<Figure size 2500x1000 with 2 Axes>"
      ]
     },
     "metadata": {},
     "output_type": "display_data"
    }
   ],
   "source": [
    "msno.matrix(data)"
   ]
  },
  {
   "cell_type": "code",
   "execution_count": 14,
   "id": "e5d139aa",
   "metadata": {},
   "outputs": [
    {
     "name": "stdout",
     "output_type": "stream",
     "text": [
      "<class 'pandas.core.frame.DataFrame'>\n",
      "RangeIndex: 1782115 entries, 0 to 1782114\n",
      "Data columns (total 37 columns):\n",
      " #   Column               Dtype  \n",
      "---  ------               -----  \n",
      " 0   MONTH                int64  \n",
      " 1   DAY_OF_MONTH         int64  \n",
      " 2   DAY_OF_WEEK          int64  \n",
      " 3   OP_CARRIER           object \n",
      " 4   OP_CARRIER_FL_NUM    int64  \n",
      " 5   ORIGIN               object \n",
      " 6   ORIGIN_STATE_ABR     object \n",
      " 7   DEST                 object \n",
      " 8   DEST_STATE_ABR       object \n",
      " 9   CRS_DEP_TIME         int64  \n",
      " 10  DEP_TIME             float64\n",
      " 11  DEP_DELAY            float64\n",
      " 12  DEP_DELAY_NEW        float64\n",
      " 13  DEP_DEL15            float64\n",
      " 14  DEP_DELAY_GROUP      float64\n",
      " 15  DEP_TIME_BLK         object \n",
      " 16  CRS_ARR_TIME         int64  \n",
      " 17  ARR_TIME             float64\n",
      " 18  ARR_DELAY            float64\n",
      " 19  ARR_DELAY_NEW        float64\n",
      " 20  ARR_DEL15            float64\n",
      " 21  ARR_DELAY_GROUP      float64\n",
      " 22  ARR_TIME_BLK         object \n",
      " 23  CANCELLED            float64\n",
      " 24  CANCELLATION_CODE    object \n",
      " 25  DIVERTED             float64\n",
      " 26  CRS_ELAPSED_TIME     float64\n",
      " 27  ACTUAL_ELAPSED_TIME  float64\n",
      " 28  AIR_TIME             float64\n",
      " 29  FLIGHTS              float64\n",
      " 30  DISTANCE             float64\n",
      " 31  DISTANCE_GROUP       int64  \n",
      " 32  CARRIER_DELAY        float64\n",
      " 33  WEATHER_DELAY        float64\n",
      " 34  NAS_DELAY            float64\n",
      " 35  SECURITY_DELAY       float64\n",
      " 36  LATE_AIRCRAFT_DELAY  float64\n",
      "dtypes: float64(22), int64(7), object(8)\n",
      "memory usage: 503.1+ MB\n"
     ]
    }
   ],
   "source": [
    "data.info()"
   ]
  },
  {
   "cell_type": "code",
   "execution_count": 15,
   "id": "e24bf998",
   "metadata": {},
   "outputs": [],
   "source": [
    "## Split dataset into delays on departure and on arrival and delete the rows with\n",
    "## important data missing to make it faster to run the code"
   ]
  },
  {
   "cell_type": "code",
   "execution_count": 16,
   "id": "512a6358",
   "metadata": {},
   "outputs": [],
   "source": [
    "## For departures, delete the arrival time delay and cancellations informations\n",
    "## Also delete the rows with missing data about the departure delay"
   ]
  },
  {
   "cell_type": "code",
   "execution_count": 17,
   "id": "7cb140b8",
   "metadata": {},
   "outputs": [
    {
     "data": {
      "text/plain": [
       "['ARR_TIME',\n",
       " 'ARR_DELAY',\n",
       " 'ARR_DELAY_NEW',\n",
       " 'ARR_DEL15',\n",
       " 'ARR_DELAY_GROUP',\n",
       " 'ARR_TIME_BLK',\n",
       " 'CANCELLED',\n",
       " 'CANCELLATION_CODE',\n",
       " 'DIVERTED',\n",
       " 'CRS_ELAPSED_TIME',\n",
       " 'ACTUAL_ELAPSED_TIME',\n",
       " 'AIR_TIME',\n",
       " 'FLIGHTS']"
      ]
     },
     "execution_count": 17,
     "metadata": {},
     "output_type": "execute_result"
    }
   ],
   "source": [
    "cols = list(data.columns)\n",
    "cols = cols[17:30]\n",
    "cols"
   ]
  },
  {
   "cell_type": "code",
   "execution_count": 18,
   "id": "9d7e05d6",
   "metadata": {},
   "outputs": [],
   "source": [
    "df_dep = data.drop(cols, axis = 1)"
   ]
  },
  {
   "cell_type": "code",
   "execution_count": 19,
   "id": "9f485615",
   "metadata": {},
   "outputs": [
    {
     "data": {
      "text/html": [
       "<div>\n",
       "<style scoped>\n",
       "    .dataframe tbody tr th:only-of-type {\n",
       "        vertical-align: middle;\n",
       "    }\n",
       "\n",
       "    .dataframe tbody tr th {\n",
       "        vertical-align: top;\n",
       "    }\n",
       "\n",
       "    .dataframe thead th {\n",
       "        text-align: right;\n",
       "    }\n",
       "</style>\n",
       "<table border=\"1\" class=\"dataframe\">\n",
       "  <thead>\n",
       "    <tr style=\"text-align: right;\">\n",
       "      <th></th>\n",
       "      <th>MONTH</th>\n",
       "      <th>DAY_OF_MONTH</th>\n",
       "      <th>DAY_OF_WEEK</th>\n",
       "      <th>OP_CARRIER</th>\n",
       "      <th>OP_CARRIER_FL_NUM</th>\n",
       "      <th>ORIGIN</th>\n",
       "      <th>ORIGIN_STATE_ABR</th>\n",
       "      <th>DEST</th>\n",
       "      <th>DEST_STATE_ABR</th>\n",
       "      <th>CRS_DEP_TIME</th>\n",
       "      <th>...</th>\n",
       "      <th>DEP_DELAY_GROUP</th>\n",
       "      <th>DEP_TIME_BLK</th>\n",
       "      <th>CRS_ARR_TIME</th>\n",
       "      <th>DISTANCE</th>\n",
       "      <th>DISTANCE_GROUP</th>\n",
       "      <th>CARRIER_DELAY</th>\n",
       "      <th>WEATHER_DELAY</th>\n",
       "      <th>NAS_DELAY</th>\n",
       "      <th>SECURITY_DELAY</th>\n",
       "      <th>LATE_AIRCRAFT_DELAY</th>\n",
       "    </tr>\n",
       "  </thead>\n",
       "  <tbody>\n",
       "    <tr>\n",
       "      <th>0</th>\n",
       "      <td>6</td>\n",
       "      <td>1</td>\n",
       "      <td>4</td>\n",
       "      <td>9E</td>\n",
       "      <td>4726</td>\n",
       "      <td>ATL</td>\n",
       "      <td>GA</td>\n",
       "      <td>CSG</td>\n",
       "      <td>GA</td>\n",
       "      <td>1510</td>\n",
       "      <td>...</td>\n",
       "      <td>-1.0</td>\n",
       "      <td>1500-1559</td>\n",
       "      <td>1604</td>\n",
       "      <td>83.0</td>\n",
       "      <td>1</td>\n",
       "      <td>NaN</td>\n",
       "      <td>NaN</td>\n",
       "      <td>NaN</td>\n",
       "      <td>NaN</td>\n",
       "      <td>NaN</td>\n",
       "    </tr>\n",
       "    <tr>\n",
       "      <th>1</th>\n",
       "      <td>6</td>\n",
       "      <td>1</td>\n",
       "      <td>4</td>\n",
       "      <td>9E</td>\n",
       "      <td>4726</td>\n",
       "      <td>CSG</td>\n",
       "      <td>GA</td>\n",
       "      <td>ATL</td>\n",
       "      <td>GA</td>\n",
       "      <td>1650</td>\n",
       "      <td>...</td>\n",
       "      <td>-1.0</td>\n",
       "      <td>1600-1659</td>\n",
       "      <td>1749</td>\n",
       "      <td>83.0</td>\n",
       "      <td>1</td>\n",
       "      <td>NaN</td>\n",
       "      <td>NaN</td>\n",
       "      <td>NaN</td>\n",
       "      <td>NaN</td>\n",
       "      <td>NaN</td>\n",
       "    </tr>\n",
       "    <tr>\n",
       "      <th>2</th>\n",
       "      <td>6</td>\n",
       "      <td>1</td>\n",
       "      <td>4</td>\n",
       "      <td>9E</td>\n",
       "      <td>5061</td>\n",
       "      <td>ATL</td>\n",
       "      <td>GA</td>\n",
       "      <td>CSG</td>\n",
       "      <td>GA</td>\n",
       "      <td>1105</td>\n",
       "      <td>...</td>\n",
       "      <td>-1.0</td>\n",
       "      <td>1100-1159</td>\n",
       "      <td>1155</td>\n",
       "      <td>83.0</td>\n",
       "      <td>1</td>\n",
       "      <td>NaN</td>\n",
       "      <td>NaN</td>\n",
       "      <td>NaN</td>\n",
       "      <td>NaN</td>\n",
       "      <td>NaN</td>\n",
       "    </tr>\n",
       "    <tr>\n",
       "      <th>3</th>\n",
       "      <td>6</td>\n",
       "      <td>1</td>\n",
       "      <td>4</td>\n",
       "      <td>9E</td>\n",
       "      <td>5061</td>\n",
       "      <td>CSG</td>\n",
       "      <td>GA</td>\n",
       "      <td>ATL</td>\n",
       "      <td>GA</td>\n",
       "      <td>1240</td>\n",
       "      <td>...</td>\n",
       "      <td>-1.0</td>\n",
       "      <td>1200-1259</td>\n",
       "      <td>1336</td>\n",
       "      <td>83.0</td>\n",
       "      <td>1</td>\n",
       "      <td>NaN</td>\n",
       "      <td>NaN</td>\n",
       "      <td>NaN</td>\n",
       "      <td>NaN</td>\n",
       "      <td>NaN</td>\n",
       "    </tr>\n",
       "    <tr>\n",
       "      <th>4</th>\n",
       "      <td>6</td>\n",
       "      <td>1</td>\n",
       "      <td>4</td>\n",
       "      <td>9E</td>\n",
       "      <td>5107</td>\n",
       "      <td>ATL</td>\n",
       "      <td>GA</td>\n",
       "      <td>TYS</td>\n",
       "      <td>TN</td>\n",
       "      <td>1930</td>\n",
       "      <td>...</td>\n",
       "      <td>-1.0</td>\n",
       "      <td>1900-1959</td>\n",
       "      <td>2028</td>\n",
       "      <td>152.0</td>\n",
       "      <td>1</td>\n",
       "      <td>NaN</td>\n",
       "      <td>NaN</td>\n",
       "      <td>NaN</td>\n",
       "      <td>NaN</td>\n",
       "      <td>NaN</td>\n",
       "    </tr>\n",
       "    <tr>\n",
       "      <th>...</th>\n",
       "      <td>...</td>\n",
       "      <td>...</td>\n",
       "      <td>...</td>\n",
       "      <td>...</td>\n",
       "      <td>...</td>\n",
       "      <td>...</td>\n",
       "      <td>...</td>\n",
       "      <td>...</td>\n",
       "      <td>...</td>\n",
       "      <td>...</td>\n",
       "      <td>...</td>\n",
       "      <td>...</td>\n",
       "      <td>...</td>\n",
       "      <td>...</td>\n",
       "      <td>...</td>\n",
       "      <td>...</td>\n",
       "      <td>...</td>\n",
       "      <td>...</td>\n",
       "      <td>...</td>\n",
       "      <td>...</td>\n",
       "      <td>...</td>\n",
       "    </tr>\n",
       "    <tr>\n",
       "      <th>1782110</th>\n",
       "      <td>8</td>\n",
       "      <td>31</td>\n",
       "      <td>4</td>\n",
       "      <td>YX</td>\n",
       "      <td>5684</td>\n",
       "      <td>JFK</td>\n",
       "      <td>NY</td>\n",
       "      <td>ACK</td>\n",
       "      <td>MA</td>\n",
       "      <td>1055</td>\n",
       "      <td>...</td>\n",
       "      <td>-1.0</td>\n",
       "      <td>1000-1059</td>\n",
       "      <td>1211</td>\n",
       "      <td>199.0</td>\n",
       "      <td>1</td>\n",
       "      <td>NaN</td>\n",
       "      <td>NaN</td>\n",
       "      <td>NaN</td>\n",
       "      <td>NaN</td>\n",
       "      <td>NaN</td>\n",
       "    </tr>\n",
       "    <tr>\n",
       "      <th>1782111</th>\n",
       "      <td>8</td>\n",
       "      <td>31</td>\n",
       "      <td>4</td>\n",
       "      <td>YX</td>\n",
       "      <td>5703</td>\n",
       "      <td>ACK</td>\n",
       "      <td>MA</td>\n",
       "      <td>LGA</td>\n",
       "      <td>NY</td>\n",
       "      <td>1258</td>\n",
       "      <td>...</td>\n",
       "      <td>-1.0</td>\n",
       "      <td>1200-1259</td>\n",
       "      <td>1425</td>\n",
       "      <td>202.0</td>\n",
       "      <td>1</td>\n",
       "      <td>NaN</td>\n",
       "      <td>NaN</td>\n",
       "      <td>NaN</td>\n",
       "      <td>NaN</td>\n",
       "      <td>NaN</td>\n",
       "    </tr>\n",
       "    <tr>\n",
       "      <th>1782112</th>\n",
       "      <td>8</td>\n",
       "      <td>31</td>\n",
       "      <td>4</td>\n",
       "      <td>YX</td>\n",
       "      <td>5797</td>\n",
       "      <td>LGA</td>\n",
       "      <td>NY</td>\n",
       "      <td>BOS</td>\n",
       "      <td>MA</td>\n",
       "      <td>2000</td>\n",
       "      <td>...</td>\n",
       "      <td>-1.0</td>\n",
       "      <td>2000-2059</td>\n",
       "      <td>2130</td>\n",
       "      <td>184.0</td>\n",
       "      <td>1</td>\n",
       "      <td>NaN</td>\n",
       "      <td>NaN</td>\n",
       "      <td>NaN</td>\n",
       "      <td>NaN</td>\n",
       "      <td>NaN</td>\n",
       "    </tr>\n",
       "    <tr>\n",
       "      <th>1782113</th>\n",
       "      <td>8</td>\n",
       "      <td>31</td>\n",
       "      <td>4</td>\n",
       "      <td>YX</td>\n",
       "      <td>3489</td>\n",
       "      <td>PIT</td>\n",
       "      <td>PA</td>\n",
       "      <td>IAD</td>\n",
       "      <td>VA</td>\n",
       "      <td>615</td>\n",
       "      <td>...</td>\n",
       "      <td>1.0</td>\n",
       "      <td>0600-0659</td>\n",
       "      <td>723</td>\n",
       "      <td>182.0</td>\n",
       "      <td>1</td>\n",
       "      <td>27.0</td>\n",
       "      <td>0.0</td>\n",
       "      <td>0.0</td>\n",
       "      <td>0.0</td>\n",
       "      <td>0.0</td>\n",
       "    </tr>\n",
       "    <tr>\n",
       "      <th>1782114</th>\n",
       "      <td>8</td>\n",
       "      <td>31</td>\n",
       "      <td>4</td>\n",
       "      <td>YX</td>\n",
       "      <td>3567</td>\n",
       "      <td>IAD</td>\n",
       "      <td>VA</td>\n",
       "      <td>PIT</td>\n",
       "      <td>PA</td>\n",
       "      <td>848</td>\n",
       "      <td>...</td>\n",
       "      <td>0.0</td>\n",
       "      <td>0800-0859</td>\n",
       "      <td>955</td>\n",
       "      <td>182.0</td>\n",
       "      <td>1</td>\n",
       "      <td>NaN</td>\n",
       "      <td>NaN</td>\n",
       "      <td>NaN</td>\n",
       "      <td>NaN</td>\n",
       "      <td>NaN</td>\n",
       "    </tr>\n",
       "  </tbody>\n",
       "</table>\n",
       "<p>1782115 rows × 24 columns</p>\n",
       "</div>"
      ],
      "text/plain": [
       "         MONTH  DAY_OF_MONTH  DAY_OF_WEEK OP_CARRIER  OP_CARRIER_FL_NUM  \\\n",
       "0            6             1            4         9E               4726   \n",
       "1            6             1            4         9E               4726   \n",
       "2            6             1            4         9E               5061   \n",
       "3            6             1            4         9E               5061   \n",
       "4            6             1            4         9E               5107   \n",
       "...        ...           ...          ...        ...                ...   \n",
       "1782110      8            31            4         YX               5684   \n",
       "1782111      8            31            4         YX               5703   \n",
       "1782112      8            31            4         YX               5797   \n",
       "1782113      8            31            4         YX               3489   \n",
       "1782114      8            31            4         YX               3567   \n",
       "\n",
       "        ORIGIN ORIGIN_STATE_ABR DEST DEST_STATE_ABR  CRS_DEP_TIME  ...  \\\n",
       "0          ATL               GA  CSG             GA          1510  ...   \n",
       "1          CSG               GA  ATL             GA          1650  ...   \n",
       "2          ATL               GA  CSG             GA          1105  ...   \n",
       "3          CSG               GA  ATL             GA          1240  ...   \n",
       "4          ATL               GA  TYS             TN          1930  ...   \n",
       "...        ...              ...  ...            ...           ...  ...   \n",
       "1782110    JFK               NY  ACK             MA          1055  ...   \n",
       "1782111    ACK               MA  LGA             NY          1258  ...   \n",
       "1782112    LGA               NY  BOS             MA          2000  ...   \n",
       "1782113    PIT               PA  IAD             VA           615  ...   \n",
       "1782114    IAD               VA  PIT             PA           848  ...   \n",
       "\n",
       "         DEP_DELAY_GROUP  DEP_TIME_BLK  CRS_ARR_TIME  DISTANCE  \\\n",
       "0                   -1.0     1500-1559          1604      83.0   \n",
       "1                   -1.0     1600-1659          1749      83.0   \n",
       "2                   -1.0     1100-1159          1155      83.0   \n",
       "3                   -1.0     1200-1259          1336      83.0   \n",
       "4                   -1.0     1900-1959          2028     152.0   \n",
       "...                  ...           ...           ...       ...   \n",
       "1782110             -1.0     1000-1059          1211     199.0   \n",
       "1782111             -1.0     1200-1259          1425     202.0   \n",
       "1782112             -1.0     2000-2059          2130     184.0   \n",
       "1782113              1.0     0600-0659           723     182.0   \n",
       "1782114              0.0     0800-0859           955     182.0   \n",
       "\n",
       "         DISTANCE_GROUP CARRIER_DELAY  WEATHER_DELAY  NAS_DELAY  \\\n",
       "0                     1           NaN            NaN        NaN   \n",
       "1                     1           NaN            NaN        NaN   \n",
       "2                     1           NaN            NaN        NaN   \n",
       "3                     1           NaN            NaN        NaN   \n",
       "4                     1           NaN            NaN        NaN   \n",
       "...                 ...           ...            ...        ...   \n",
       "1782110               1           NaN            NaN        NaN   \n",
       "1782111               1           NaN            NaN        NaN   \n",
       "1782112               1           NaN            NaN        NaN   \n",
       "1782113               1          27.0            0.0        0.0   \n",
       "1782114               1           NaN            NaN        NaN   \n",
       "\n",
       "         SECURITY_DELAY  LATE_AIRCRAFT_DELAY  \n",
       "0                   NaN                  NaN  \n",
       "1                   NaN                  NaN  \n",
       "2                   NaN                  NaN  \n",
       "3                   NaN                  NaN  \n",
       "4                   NaN                  NaN  \n",
       "...                 ...                  ...  \n",
       "1782110             NaN                  NaN  \n",
       "1782111             NaN                  NaN  \n",
       "1782112             NaN                  NaN  \n",
       "1782113             0.0                  0.0  \n",
       "1782114             NaN                  NaN  \n",
       "\n",
       "[1782115 rows x 24 columns]"
      ]
     },
     "execution_count": 19,
     "metadata": {},
     "output_type": "execute_result"
    }
   ],
   "source": [
    "df_dep"
   ]
  },
  {
   "cell_type": "code",
   "execution_count": 20,
   "id": "12bc3558",
   "metadata": {},
   "outputs": [],
   "source": [
    "## Departure time is already a float, so delete all the rows the value is missing"
   ]
  },
  {
   "cell_type": "code",
   "execution_count": 21,
   "id": "d9c4c068",
   "metadata": {},
   "outputs": [],
   "source": [
    "df_dep.dropna(subset ='DEP_TIME', inplace = True)"
   ]
  },
  {
   "cell_type": "code",
   "execution_count": 22,
   "id": "95ebc8a0",
   "metadata": {},
   "outputs": [
    {
     "data": {
      "text/plain": [
       "MONTH                        0\n",
       "DAY_OF_MONTH                 0\n",
       "DAY_OF_WEEK                  0\n",
       "OP_CARRIER                   0\n",
       "OP_CARRIER_FL_NUM            0\n",
       "ORIGIN                       0\n",
       "ORIGIN_STATE_ABR             0\n",
       "DEST                         0\n",
       "DEST_STATE_ABR               0\n",
       "CRS_DEP_TIME                 0\n",
       "DEP_TIME                     0\n",
       "DEP_DELAY                   21\n",
       "DEP_DELAY_NEW               21\n",
       "DEP_DEL15                   21\n",
       "DEP_DELAY_GROUP             21\n",
       "DEP_TIME_BLK                 0\n",
       "CRS_ARR_TIME                 0\n",
       "DISTANCE                     0\n",
       "DISTANCE_GROUP               0\n",
       "CARRIER_DELAY          1299877\n",
       "WEATHER_DELAY          1299877\n",
       "NAS_DELAY              1299877\n",
       "SECURITY_DELAY         1299877\n",
       "LATE_AIRCRAFT_DELAY    1299877\n",
       "dtype: int64"
      ]
     },
     "execution_count": 22,
     "metadata": {},
     "output_type": "execute_result"
    }
   ],
   "source": [
    "df_dep.isnull().sum()"
   ]
  },
  {
   "cell_type": "code",
   "execution_count": 23,
   "id": "f882981a",
   "metadata": {},
   "outputs": [],
   "source": [
    "df_dep.dropna(subset = 'DEP_DELAY', inplace = True)"
   ]
  },
  {
   "cell_type": "code",
   "execution_count": 24,
   "id": "9ad5ffdf",
   "metadata": {},
   "outputs": [
    {
     "data": {
      "text/plain": [
       "MONTH                        0\n",
       "DAY_OF_MONTH                 0\n",
       "DAY_OF_WEEK                  0\n",
       "OP_CARRIER                   0\n",
       "OP_CARRIER_FL_NUM            0\n",
       "ORIGIN                       0\n",
       "ORIGIN_STATE_ABR             0\n",
       "DEST                         0\n",
       "DEST_STATE_ABR               0\n",
       "CRS_DEP_TIME                 0\n",
       "DEP_TIME                     0\n",
       "DEP_DELAY                    0\n",
       "DEP_DELAY_NEW                0\n",
       "DEP_DEL15                    0\n",
       "DEP_DELAY_GROUP              0\n",
       "DEP_TIME_BLK                 0\n",
       "CRS_ARR_TIME                 0\n",
       "DISTANCE                     0\n",
       "DISTANCE_GROUP               0\n",
       "CARRIER_DELAY          1299856\n",
       "WEATHER_DELAY          1299856\n",
       "NAS_DELAY              1299856\n",
       "SECURITY_DELAY         1299856\n",
       "LATE_AIRCRAFT_DELAY    1299856\n",
       "dtype: int64"
      ]
     },
     "execution_count": 24,
     "metadata": {},
     "output_type": "execute_result"
    }
   ],
   "source": [
    "df_dep.isnull().sum()"
   ]
  },
  {
   "cell_type": "code",
   "execution_count": 25,
   "id": "5aad4ca3",
   "metadata": {},
   "outputs": [
    {
     "data": {
      "text/plain": [
       "['DEP_TIME',\n",
       " 'DEP_DELAY',\n",
       " 'DEP_DELAY_NEW',\n",
       " 'DEP_DEL15',\n",
       " 'DEP_DELAY_GROUP',\n",
       " 'DEP_TIME_BLK',\n",
       " 'CANCELLED',\n",
       " 'CANCELLATION_CODE',\n",
       " 'DIVERTED',\n",
       " 'CRS_ELAPSED_TIME',\n",
       " 'ACTUAL_ELAPSED_TIME',\n",
       " 'AIR_TIME',\n",
       " 'FLIGHTS']"
      ]
     },
     "execution_count": 25,
     "metadata": {},
     "output_type": "execute_result"
    }
   ],
   "source": [
    "cols = list(data.columns)\n",
    "cols = cols[10:16] + cols[23:30]\n",
    "cols"
   ]
  },
  {
   "cell_type": "code",
   "execution_count": 26,
   "id": "8507baa6",
   "metadata": {},
   "outputs": [],
   "source": [
    "df_arr = data.drop(cols, axis=1)"
   ]
  },
  {
   "cell_type": "code",
   "execution_count": 27,
   "id": "6800b18f",
   "metadata": {},
   "outputs": [],
   "source": [
    "df_arr.dropna(subset = 'ARR_DELAY', inplace = True)"
   ]
  },
  {
   "cell_type": "code",
   "execution_count": 28,
   "id": "e23785cb",
   "metadata": {},
   "outputs": [
    {
     "data": {
      "text/plain": [
       "MONTH                        0\n",
       "DAY_OF_MONTH                 0\n",
       "DAY_OF_WEEK                  0\n",
       "OP_CARRIER                   0\n",
       "OP_CARRIER_FL_NUM            0\n",
       "ORIGIN                       0\n",
       "ORIGIN_STATE_ABR             0\n",
       "DEST                         0\n",
       "DEST_STATE_ABR               0\n",
       "CRS_DEP_TIME                 0\n",
       "CRS_ARR_TIME                 0\n",
       "ARR_TIME                     0\n",
       "ARR_DELAY                    0\n",
       "ARR_DELAY_NEW                0\n",
       "ARR_DEL15                    0\n",
       "ARR_DELAY_GROUP              0\n",
       "ARR_TIME_BLK                 0\n",
       "DISTANCE                     0\n",
       "DISTANCE_GROUP               0\n",
       "CARRIER_DELAY          1292217\n",
       "WEATHER_DELAY          1292217\n",
       "NAS_DELAY              1292217\n",
       "SECURITY_DELAY         1292217\n",
       "LATE_AIRCRAFT_DELAY    1292217\n",
       "dtype: int64"
      ]
     },
     "execution_count": 28,
     "metadata": {},
     "output_type": "execute_result"
    }
   ],
   "source": [
    "df_arr.isnull().sum()"
   ]
  },
  {
   "cell_type": "code",
   "execution_count": 29,
   "id": "8bcd91c4",
   "metadata": {
    "scrolled": true
   },
   "outputs": [],
   "source": [
    "## Keep the data about cause of delay for further analysis. When the flight is not delayed\n",
    "## at arrival, there is no data about the cause of delay, the reason for so many missing values"
   ]
  },
  {
   "cell_type": "code",
   "execution_count": 30,
   "id": "72a514c4",
   "metadata": {},
   "outputs": [],
   "source": [
    "### Analysing Correlation between Airlines and Delay"
   ]
  },
  {
   "cell_type": "code",
   "execution_count": 31,
   "id": "f2ffa2f8",
   "metadata": {},
   "outputs": [
    {
     "data": {
      "text/plain": [
       "OP_CARRIER\n",
       "9E    11.781018\n",
       "AA    27.016572\n",
       "AS     8.362288\n",
       "B6    37.484968\n",
       "DL    16.420680\n",
       "F9    32.796546\n",
       "G4    19.379228\n",
       "HA     7.638608\n",
       "MQ     8.847601\n",
       "NK    27.367276\n",
       "OH    15.036544\n",
       "OO     9.776726\n",
       "UA    21.152464\n",
       "WN    15.808467\n",
       "YX     8.075966\n",
       "Name: DEP_DELAY, dtype: float64"
      ]
     },
     "execution_count": 31,
     "metadata": {},
     "output_type": "execute_result"
    }
   ],
   "source": [
    "df_dep.groupby('OP_CARRIER')['DEP_DELAY'].mean()"
   ]
  },
  {
   "cell_type": "code",
   "execution_count": 32,
   "id": "274aff61",
   "metadata": {},
   "outputs": [
    {
     "data": {
      "text/plain": [
       "['9E',\n",
       " 'AA',\n",
       " 'AS',\n",
       " 'B6',\n",
       " 'DL',\n",
       " 'F9',\n",
       " 'G4',\n",
       " 'HA',\n",
       " 'MQ',\n",
       " 'NK',\n",
       " 'OH',\n",
       " 'OO',\n",
       " 'UA',\n",
       " 'WN',\n",
       " 'YX']"
      ]
     },
     "execution_count": 32,
     "metadata": {},
     "output_type": "execute_result"
    }
   ],
   "source": [
    "carriers = list(data['OP_CARRIER'].unique())\n",
    "carriers"
   ]
  },
  {
   "cell_type": "code",
   "execution_count": 33,
   "id": "013161fd",
   "metadata": {},
   "outputs": [
    {
     "data": {
      "text/plain": [
       "[Text(0.5, 1.0, 'Average Delay per Carrier (minutes)')]"
      ]
     },
     "execution_count": 33,
     "metadata": {},
     "output_type": "execute_result"
    },
    {
     "data": {
      "image/png": "[encoded data removed]",
      "text/plain": [
       "<Figure size 640x480 with 1 Axes>"
      ]
     },
     "metadata": {},
     "output_type": "display_data"
    }
   ],
   "source": [
    "sns.barplot(x = carriers, y = df_dep.groupby('OP_CARRIER')['DEP_DELAY'].mean()).set(title = 'Average'\n",
    "                                                                                    ' Delay per Carrier (minutes)')"
   ]
  },
  {
   "cell_type": "code",
   "execution_count": 34,
   "id": "2b7ab28f",
   "metadata": {},
   "outputs": [
    {
     "data": {
      "text/plain": [
       "OP_CARRIER\n",
       "9E      8941.0\n",
       "AA     70804.0\n",
       "AS     13425.0\n",
       "B6     26160.0\n",
       "DL     61600.0\n",
       "F9     16911.0\n",
       "G4      8574.0\n",
       "HA      3559.0\n",
       "MQ     10001.0\n",
       "NK     22450.0\n",
       "OH     10629.0\n",
       "OO     25562.0\n",
       "UA     51604.0\n",
       "WN    113079.0\n",
       "YX     10329.0\n",
       "Name: DEP_DEL15, dtype: float64"
      ]
     },
     "execution_count": 34,
     "metadata": {},
     "output_type": "execute_result"
    }
   ],
   "source": [
    "df_dep.groupby('OP_CARRIER')['DEP_DEL15'].sum()"
   ]
  },
  {
   "cell_type": "code",
   "execution_count": 35,
   "id": "a1885c3a",
   "metadata": {},
   "outputs": [
    {
     "data": {
      "text/plain": [
       "OP_CARRIER\n",
       "9E     50817\n",
       "AA    245294\n",
       "AS     66839\n",
       "B6     65625\n",
       "DL    260828\n",
       "F9     42275\n",
       "G4     32226\n",
       "HA     20695\n",
       "MQ     56700\n",
       "NK     62449\n",
       "OH     49392\n",
       "OO    169832\n",
       "UA    187913\n",
       "WN    367503\n",
       "YX     69255\n",
       "Name: DEP_DEL15, dtype: int64"
      ]
     },
     "execution_count": 35,
     "metadata": {},
     "output_type": "execute_result"
    }
   ],
   "source": [
    "df_dep.groupby('OP_CARRIER')['DEP_DEL15'].count()"
   ]
  },
  {
   "cell_type": "code",
   "execution_count": 36,
   "id": "675cc78b",
   "metadata": {},
   "outputs": [
    {
     "data": {
      "text/plain": [
       "OP_CARRIER\n",
       "9E    17.594506\n",
       "AA    28.864954\n",
       "AS    20.085579\n",
       "B6    39.862857\n",
       "DL    23.617096\n",
       "F9    40.002365\n",
       "G4    26.605846\n",
       "HA    17.197391\n",
       "MQ    17.638448\n",
       "NK    35.949335\n",
       "OH    21.519679\n",
       "OO    15.051345\n",
       "UA    27.461644\n",
       "WN    30.769545\n",
       "YX    14.914447\n",
       "Name: DEP_DEL15, dtype: float64"
      ]
     },
     "execution_count": 36,
     "metadata": {},
     "output_type": "execute_result"
    }
   ],
   "source": [
    "perc_del = (df_dep.groupby('OP_CARRIER')['DEP_DEL15'].sum()/df_dep.groupby('OP_CARRIER')['DEP_DEL15'].count())*100\n",
    "\n",
    "perc_del"
   ]
  },
  {
   "cell_type": "code",
   "execution_count": 37,
   "id": "6ea188da",
   "metadata": {},
   "outputs": [
    {
     "data": {
      "text/plain": [
       "[Text(0.5, 1.0, '% of flights delayed more than 15 minutes on departure per carrier')]"
      ]
     },
     "execution_count": 37,
     "metadata": {},
     "output_type": "execute_result"
    },
    {
     "data": {
      "image/png": "[encoded data removed]",
      "text/plain": [
       "<Figure size 640x480 with 1 Axes>"
      ]
     },
     "metadata": {},
     "output_type": "display_data"
    }
   ],
   "source": [
    "sns.barplot(x = carriers, y = perc_del).set(title = '% of flights delayed more than 15 minutes '\n",
    "                                            'on departure per carrier')"
   ]
  },
  {
   "cell_type": "code",
   "execution_count": 38,
   "id": "c8bf6c96",
   "metadata": {},
   "outputs": [
    {
     "data": {
      "text/plain": [
       "OP_CARRIER\n",
       "9E    83.159937\n",
       "AA    99.401672\n",
       "AS    54.417654\n",
       "B6    98.174197\n",
       "DL    75.006494\n",
       "F9    86.086807\n",
       "G4    86.888850\n",
       "HA    50.010958\n",
       "MQ    62.532747\n",
       "NK    79.106192\n",
       "OH    86.651331\n",
       "OO    86.123817\n",
       "UA    82.131017\n",
       "WN    50.297049\n",
       "YX    80.711782\n",
       "Name: DEP_DELAY, dtype: float64"
      ]
     },
     "execution_count": 38,
     "metadata": {},
     "output_type": "execute_result"
    }
   ],
   "source": [
    "df_dep.loc[df_dep['DEP_DEL15'] == 1].groupby('OP_CARRIER')['DEP_DELAY'].mean()"
   ]
  },
  {
   "cell_type": "code",
   "execution_count": 39,
   "id": "1fd9e5db",
   "metadata": {},
   "outputs": [
    {
     "data": {
      "text/plain": [
       "[Text(0.5, 1.0, 'Average Delay for Flights Delayed More Than 15 minutes')]"
      ]
     },
     "execution_count": 39,
     "metadata": {},
     "output_type": "execute_result"
    },
    {
     "data": {
      "image/png": "[encoded data removed]",
      "text/plain": [
       "<Figure size 640x480 with 1 Axes>"
      ]
     },
     "metadata": {},
     "output_type": "display_data"
    }
   ],
   "source": [
    "sns.barplot(x = carriers, y = df_dep.loc[df_dep['DEP_DEL15'] == 1].groupby\n",
    "            ('OP_CARRIER')['DEP_DELAY'].mean()).set(title = 'Average Delay for Flights Delayed More '\n",
    "                                                    'Than 15 minutes')"
   ]
  },
  {
   "cell_type": "code",
   "execution_count": 40,
   "id": "c9d453bc",
   "metadata": {},
   "outputs": [
    {
     "name": "stdout",
     "output_type": "stream",
     "text": [
      "Number of the Origin Airport: 340\n"
     ]
    }
   ],
   "source": [
    "## Number of origins\n",
    "\n",
    "origins = len(list(data['ORIGIN'].unique()))\n",
    "print(\"Number of the Origin Airport:\", origins)"
   ]
  },
  {
   "cell_type": "code",
   "execution_count": 41,
   "id": "6ea3b2c2",
   "metadata": {},
   "outputs": [],
   "source": [
    "perc_del_ori = (df_dep.groupby('ORIGIN')['DEP_DEL15'].sum()/df_dep.groupby('ORIGIN')['DEP_DEL15'].count())*100\n",
    "perc_del_ori = perc_del_ori.sort_values(ascending = False)"
   ]
  },
  {
   "cell_type": "code",
   "execution_count": 42,
   "id": "19310baa",
   "metadata": {},
   "outputs": [
    {
     "data": {
      "text/plain": [
       "ORIGIN\n",
       "SMX    69.230769\n",
       "ERI    50.000000\n",
       "BQN    48.175182\n",
       "SCK    47.407407\n",
       "HGR    45.205479\n",
       "USA    45.108696\n",
       "BRW    43.820225\n",
       "SPI    43.478261\n",
       "FLL    41.245439\n",
       "HTS    40.437158\n",
       "PSE    39.933993\n",
       "BWI    38.807915\n",
       "MCO    38.393038\n",
       "PBG    38.372093\n",
       "MDW    36.594852\n",
       "SJU    36.560917\n",
       "PSM    36.458333\n",
       "DEN    35.007649\n",
       "MIA    34.107056\n",
       "LBE    34.090909\n",
       "BET    34.090909\n",
       "ISP    33.742911\n",
       "ORH    33.522727\n",
       "EWR    33.010250\n",
       "SWF    32.727273\n",
       "TTN    32.562620\n",
       "LAS    31.947634\n",
       "MVY    31.615120\n",
       "PAE    31.250000\n",
       "CLT    30.583388\n",
       "PBI    30.211082\n",
       "DAL    30.182689\n",
       "DFW    29.950392\n",
       "AVL    29.417323\n",
       "ATL    29.265084\n",
       "STL    29.180492\n",
       "TPA    28.920514\n",
       "BOS    28.734817\n",
       "CMX    28.654971\n",
       "TOL    28.571429\n",
       "BLV    28.529412\n",
       "JFK    28.444403\n",
       "HYA    28.402367\n",
       "IAG    28.358209\n",
       "BUF    28.111046\n",
       "MCW    27.922078\n",
       "FOD    27.922078\n",
       "RFD    27.702703\n",
       "STT    27.688172\n",
       "IAH    27.530364\n",
       "Name: DEP_DEL15, dtype: float64"
      ]
     },
     "execution_count": 42,
     "metadata": {},
     "output_type": "execute_result"
    }
   ],
   "source": [
    "perc_del_ori[0:50]"
   ]
  },
  {
   "cell_type": "code",
   "execution_count": 43,
   "id": "5d8ec76b",
   "metadata": {},
   "outputs": [
    {
     "data": {
      "image/png": "[encoded data removed]",
      "text/plain": [
       "<Figure size 2000x500 with 1 Axes>"
      ]
     },
     "metadata": {},
     "output_type": "display_data"
    }
   ],
   "source": [
    "#Graph with the airports with most delays in % of flights\n",
    "\n",
    "fig = plt.subplots(figsize = (20,5))\n",
    "ax1 = sns.lineplot(perc_del_ori[0:50])\n",
    "plt.show()"
   ]
  },
  {
   "cell_type": "markdown",
   "id": "49a9f16c",
   "metadata": {},
   "source": [
    "## Feature Engineering\n",
    "#### Using Label Encoder\n",
    "We used label encoder here because other methods increased the number of columns and since there were too many columns in this data set, methods other than label encoder did not work."
   ]
  },
  {
   "cell_type": "code",
   "execution_count": 44,
   "id": "ff95b130",
   "metadata": {},
   "outputs": [],
   "source": [
    "from sklearn.preprocessing import LabelEncoder\n",
    "le = LabelEncoder()\n"
   ]
  },
  {
   "cell_type": "code",
   "execution_count": 45,
   "id": "f7785e8b",
   "metadata": {},
   "outputs": [],
   "source": [
    "dt = df_dep[['DAY_OF_WEEK','OP_CARRIER','ORIGIN','DEST','DEP_TIME_BLK']]"
   ]
  },
  {
   "cell_type": "code",
   "execution_count": 46,
   "id": "6a85dc0c",
   "metadata": {},
   "outputs": [
    {
     "data": {
      "text/plain": [
       "(1747643, 5)"
      ]
     },
     "execution_count": 46,
     "metadata": {},
     "output_type": "execute_result"
    }
   ],
   "source": [
    "dt.shape"
   ]
  },
  {
   "cell_type": "code",
   "execution_count": 47,
   "id": "3e3c815f",
   "metadata": {},
   "outputs": [],
   "source": [
    "dt['OP_CARRIER'] = le.fit_transform(dt['OP_CARRIER'])\n",
    "dt['ORIGIN'] = le.fit_transform(dt['ORIGIN'])\n",
    "dt['DEST'] = le.fit_transform(dt['DEST'])\n",
    "dt['DEP_TIME_BLK'] = le.fit_transform(dt['DEP_TIME_BLK'])"
   ]
  },
  {
   "cell_type": "markdown",
   "id": "0c1d7553",
   "metadata": {},
   "source": [
    "## Splitting the data"
   ]
  },
  {
   "cell_type": "code",
   "execution_count": 75,
   "id": "c4cca62f",
   "metadata": {},
   "outputs": [
    {
     "data": {
      "text/plain": [
       "((1747643, 5), (1747643,))"
      ]
     },
     "execution_count": 75,
     "metadata": {},
     "output_type": "execute_result"
    }
   ],
   "source": [
    "X = dt\n",
    "y = df_dep['DEP_DEL15']\n",
    "\n",
    "X.shape, y.shape"
   ]
  },
  {
   "cell_type": "code",
   "execution_count": 76,
   "id": "85b0738a",
   "metadata": {},
   "outputs": [
    {
     "data": {
      "text/plain": [
       "((1747643, 5), (1747643,), (1310732, 5), (436911, 5), (1310732,), (436911,))"
      ]
     },
     "execution_count": 76,
     "metadata": {},
     "output_type": "execute_result"
    }
   ],
   "source": [
    "from sklearn.model_selection import train_test_split\n",
    "X_train, X_test, y_train, y_test = train_test_split(X, y, test_size = 0.25, random_state = 42) \n",
    "\n",
    "X.shape, y.shape, X_train.shape, X_test.shape, y_train.shape, y_test.shape"
   ]
  },
  {
   "cell_type": "markdown",
   "id": "1eed4a0f",
   "metadata": {},
   "source": [
    "## ML Models Implementation"
   ]
  },
  {
   "cell_type": "markdown",
   "id": "a40da901",
   "metadata": {},
   "source": [
    "## Decision Tree"
   ]
  },
  {
   "cell_type": "code",
   "execution_count": 50,
   "id": "7a83ebb7",
   "metadata": {},
   "outputs": [],
   "source": [
    "from sklearn.tree import DecisionTreeClassifier       # Import Decision Tree Classifier\n",
    "from sklearn.model_selection import train_test_split  # Import train_test_split function\n",
    "from sklearn import metrics                           # Import scikit-learn metrics module for accuracy calculation\n",
    "from sklearn import tree"
   ]
  },
  {
   "cell_type": "code",
   "execution_count": 51,
   "id": "53e89af2",
   "metadata": {},
   "outputs": [],
   "source": [
    "# Create Decision Tree classifer object\n",
    "clf = DecisionTreeClassifier(max_depth = 10,random_state = 0)\n",
    "\n",
    "# Train Decision Tree Classifer\n",
    "clf = clf.fit(X_train, y_train)\n",
    "\n",
    "#Predict the response for test dataset\n",
    "y_pred = clf.predict(X_test)"
   ]
  },
  {
   "cell_type": "code",
   "execution_count": 52,
   "id": "8bbfb9b7",
   "metadata": {},
   "outputs": [
    {
     "name": "stdout",
     "output_type": "stream",
     "text": [
      "Accuracy: 0.75\n"
     ]
    }
   ],
   "source": [
    "# Model Accuracy, how often is the classifier correct?\n",
    "print( \"Accuracy: {:.2f}\".format(metrics.accuracy_score(y_test, y_pred)) )"
   ]
  },
  {
   "cell_type": "code",
   "execution_count": 53,
   "id": "51cd4d52",
   "metadata": {},
   "outputs": [
    {
     "data": {
      "image/png": "[encoded data removed]",
      "text/plain": [
       "<Figure size 640x480 with 2 Axes>"
      ]
     },
     "metadata": {},
     "output_type": "display_data"
    }
   ],
   "source": [
    "from sklearn.metrics import confusion_matrix\n",
    "\n",
    "# Calculate cm by calling a method named as 'confusion_matrix'\n",
    "cm = confusion_matrix(y_test, y_pred)\n",
    "sns.heatmap(cm, annot = True)\n",
    "plt.xlabel('Estimated')\n",
    "plt.ylabel('True Values')\n",
    "plt.show()"
   ]
  },
  {
   "cell_type": "markdown",
   "id": "11252651",
   "metadata": {},
   "source": [
    "## Random Forest"
   ]
  },
  {
   "cell_type": "code",
   "execution_count": 77,
   "id": "a67b1838",
   "metadata": {},
   "outputs": [],
   "source": [
    "#Import Random Forest Model\n",
    "from sklearn.ensemble import RandomForestClassifier\n",
    "\n",
    "#Create a Gaussian Classifier\n",
    "clf_RF = RandomForestClassifier(n_estimators = 10)\n",
    "\n",
    "#Train the model using the training sets y_pred=clf.predict(X_test)\n",
    "clf_RF.fit(X_train, y_train)\n",
    "\n",
    "y_pred = clf_RF.predict(X_test)"
   ]
  },
  {
   "cell_type": "code",
   "execution_count": 78,
   "id": "34e08034",
   "metadata": {},
   "outputs": [
    {
     "name": "stdout",
     "output_type": "stream",
     "text": [
      "Accuracy: 0.73\n"
     ]
    }
   ],
   "source": [
    "# Random Forest accurarcy score\n",
    "print( \"Accuracy: {:.2f}\".format(metrics.accuracy_score(y_test, y_pred)) )"
   ]
  },
  {
   "cell_type": "code",
   "execution_count": 79,
   "id": "d7d58387",
   "metadata": {},
   "outputs": [
    {
     "data": {
      "image/png": "[encoded data removed]",
      "text/plain": [
       "<Figure size 640x480 with 2 Axes>"
      ]
     },
     "metadata": {},
     "output_type": "display_data"
    }
   ],
   "source": [
    "# Calculate cm by calling a method named as 'confusion_matrix'\n",
    "cm = confusion_matrix(y_test, y_pred)\n",
    "\n",
    "# Call a method heatmap() to plot confusion matrix\n",
    "sns.heatmap(cm, annot = True)\n",
    "plt.xlabel('Estimated')\n",
    "plt.ylabel('True Values')\n",
    "plt.show()"
   ]
  },
  {
   "cell_type": "markdown",
   "id": "b086f61e",
   "metadata": {},
   "source": [
    "## Checking results tuning Hyperparameters and using Cross Validation"
   ]
  },
  {
   "cell_type": "code",
   "execution_count": 80,
   "id": "1446e3d0",
   "metadata": {},
   "outputs": [],
   "source": [
    "from sklearn.model_selection import RandomizedSearchCV"
   ]
  },
  {
   "cell_type": "code",
   "execution_count": 107,
   "id": "315c7910",
   "metadata": {},
   "outputs": [],
   "source": [
    "param_dist = {'n_estimators': [5,10,25],\n",
    "              'max_depth': [3,5,7]}\n",
    "rf = RandomForestClassifier()\n",
    "rand_search = RandomizedSearchCV(rf, \n",
    "                                 param_distributions = param_dist, \n",
    "                                 n_iter=9, \n",
    "                                 cv=5)"
   ]
  },
  {
   "cell_type": "code",
   "execution_count": 108,
   "id": "4557507a",
   "metadata": {},
   "outputs": [
    {
     "data": {
      "text/html": [
       "<style>#sk-container-id-2 {color: black;}#sk-container-id-2 pre{padding: 0;}#sk-container-id-2 div.sk-toggleable {background-color: white;}#sk-container-id-2 label.sk-toggleable__label {cursor: pointer;display: block;width: 100%;margin-bottom: 0;padding: 0.3em;box-sizing: border-box;text-align: center;}#sk-container-id-2 label.sk-toggleable__label-arrow:before {content: \"▸\";float: left;margin-right: 0.25em;color: #696969;}#sk-container-id-2 label.sk-toggleable__label-arrow:hover:before {color: black;}#sk-container-id-2 div.sk-estimator:hover label.sk-toggleable__label-arrow:before {color: black;}#sk-container-id-2 div.sk-toggleable__content {max-height: 0;max-width: 0;overflow: hidden;text-align: left;background-color: #f0f8ff;}#sk-container-id-2 div.sk-toggleable__content pre {margin: 0.2em;color: black;border-radius: 0.25em;background-color: #f0f8ff;}#sk-container-id-2 input.sk-toggleable__control:checked~div.sk-toggleable__content {max-height: 200px;max-width: 100%;overflow: auto;}#sk-container-id-2 input.sk-toggleable__control:checked~label.sk-toggleable__label-arrow:before {content: \"▾\";}#sk-container-id-2 div.sk-estimator input.sk-toggleable__control:checked~label.sk-toggleable__label {background-color: #d4ebff;}#sk-container-id-2 div.sk-label input.sk-toggleable__control:checked~label.sk-toggleable__label {background-color: #d4ebff;}#sk-container-id-2 input.sk-hidden--visually {border: 0;clip: rect(1px 1px 1px 1px);clip: rect(1px, 1px, 1px, 1px);height: 1px;margin: -1px;overflow: hidden;padding: 0;position: absolute;width: 1px;}#sk-container-id-2 div.sk-estimator {font-family: monospace;background-color: #f0f8ff;border: 1px dotted black;border-radius: 0.25em;box-sizing: border-box;margin-bottom: 0.5em;}#sk-container-id-2 div.sk-estimator:hover {background-color: #d4ebff;}#sk-container-id-2 div.sk-parallel-item::after {content: \"\";width: 100%;border-bottom: 1px solid gray;flex-grow: 1;}#sk-container-id-2 div.sk-label:hover label.sk-toggleable__label {background-color: #d4ebff;}#sk-container-id-2 div.sk-serial::before {content: \"\";position: absolute;border-left: 1px solid gray;box-sizing: border-box;top: 0;bottom: 0;left: 50%;z-index: 0;}#sk-container-id-2 div.sk-serial {display: flex;flex-direction: column;align-items: center;background-color: white;padding-right: 0.2em;padding-left: 0.2em;position: relative;}#sk-container-id-2 div.sk-item {position: relative;z-index: 1;}#sk-container-id-2 div.sk-parallel {display: flex;align-items: stretch;justify-content: center;background-color: white;position: relative;}#sk-container-id-2 div.sk-item::before, #sk-container-id-2 div.sk-parallel-item::before {content: \"\";position: absolute;border-left: 1px solid gray;box-sizing: border-box;top: 0;bottom: 0;left: 50%;z-index: -1;}#sk-container-id-2 div.sk-parallel-item {display: flex;flex-direction: column;z-index: 1;position: relative;background-color: white;}#sk-container-id-2 div.sk-parallel-item:first-child::after {align-self: flex-end;width: 50%;}#sk-container-id-2 div.sk-parallel-item:last-child::after {align-self: flex-start;width: 50%;}#sk-container-id-2 div.sk-parallel-item:only-child::after {width: 0;}#sk-container-id-2 div.sk-dashed-wrapped {border: 1px dashed gray;margin: 0 0.4em 0.5em 0.4em;box-sizing: border-box;padding-bottom: 0.4em;background-color: white;}#sk-container-id-2 div.sk-label label {font-family: monospace;font-weight: bold;display: inline-block;line-height: 1.2em;}#sk-container-id-2 div.sk-label-container {text-align: center;}#sk-container-id-2 div.sk-container {/* jupyter's `normalize.less` sets `[hidden] { display: none; }` but bootstrap.min.css set `[hidden] { display: none !important; }` so we also need the `!important` here to be able to override the default hidden behavior on the sphinx rendered scikit-learn.org. See: https://github.com/scikit-learn/scikit-learn/issues/21755 */display: inline-block !important;position: relative;}#sk-container-id-2 div.sk-text-repr-fallback {display: none;}</style><div id=\"sk-container-id-2\" class=\"sk-top-container\"><div class=\"sk-text-repr-fallback\"><pre>RandomizedSearchCV(cv=5, estimator=RandomForestClassifier(), n_iter=9,\n",
       "                   param_distributions={&#x27;max_depth&#x27;: [3, 5, 7],\n",
       "                                        &#x27;n_estimators&#x27;: [5, 10, 25]})</pre><b>In a Jupyter environment, please rerun this cell to show the HTML representation or trust the notebook. <br />On GitHub, the HTML representation is unable to render, please try loading this page with nbviewer.org.</b></div><div class=\"sk-container\" hidden><div class=\"sk-item sk-dashed-wrapped\"><div class=\"sk-label-container\"><div class=\"sk-label sk-toggleable\"><input class=\"sk-toggleable__control sk-hidden--visually\" id=\"sk-estimator-id-4\" type=\"checkbox\" ><label for=\"sk-estimator-id-4\" class=\"sk-toggleable__label sk-toggleable__label-arrow\">RandomizedSearchCV</label><div class=\"sk-toggleable__content\"><pre>RandomizedSearchCV(cv=5, estimator=RandomForestClassifier(), n_iter=9,\n",
       "                   param_distributions={&#x27;max_depth&#x27;: [3, 5, 7],\n",
       "                                        &#x27;n_estimators&#x27;: [5, 10, 25]})</pre></div></div></div><div class=\"sk-parallel\"><div class=\"sk-parallel-item\"><div class=\"sk-item\"><div class=\"sk-label-container\"><div class=\"sk-label sk-toggleable\"><input class=\"sk-toggleable__control sk-hidden--visually\" id=\"sk-estimator-id-5\" type=\"checkbox\" ><label for=\"sk-estimator-id-5\" class=\"sk-toggleable__label sk-toggleable__label-arrow\">estimator: RandomForestClassifier</label><div class=\"sk-toggleable__content\"><pre>RandomForestClassifier()</pre></div></div></div><div class=\"sk-serial\"><div class=\"sk-item\"><div class=\"sk-estimator sk-toggleable\"><input class=\"sk-toggleable__control sk-hidden--visually\" id=\"sk-estimator-id-6\" type=\"checkbox\" ><label for=\"sk-estimator-id-6\" class=\"sk-toggleable__label sk-toggleable__label-arrow\">RandomForestClassifier</label><div class=\"sk-toggleable__content\"><pre>RandomForestClassifier()</pre></div></div></div></div></div></div></div></div></div></div>"
      ],
      "text/plain": [
       "RandomizedSearchCV(cv=5, estimator=RandomForestClassifier(), n_iter=9,\n",
       "                   param_distributions={'max_depth': [3, 5, 7],\n",
       "                                        'n_estimators': [5, 10, 25]})"
      ]
     },
     "execution_count": 108,
     "metadata": {},
     "output_type": "execute_result"
    }
   ],
   "source": [
    "rand_search.fit(X_train, y_train)"
   ]
  },
  {
   "cell_type": "code",
   "execution_count": 109,
   "id": "1127270f",
   "metadata": {},
   "outputs": [
    {
     "name": "stdout",
     "output_type": "stream",
     "text": [
      "Best hyperparameters: {'n_estimators': 25, 'max_depth': 7}\n"
     ]
    }
   ],
   "source": [
    "best_rf = rand_search.best_estimator_\n",
    "print('Best hyperparameters:',  rand_search.best_params_)"
   ]
  },
  {
   "cell_type": "code",
   "execution_count": 113,
   "id": "00d7b111",
   "metadata": {},
   "outputs": [
    {
     "data": {
      "text/plain": [
       "array([0.74086694, 0.74086694, 0.74086694, 0.74290015, 0.741269  ,\n",
       "       0.74154137, 0.74501652, 0.74528813, 0.74534459])"
      ]
     },
     "execution_count": 113,
     "metadata": {},
     "output_type": "execute_result"
    }
   ],
   "source": [
    "rand_search.cv_results_['mean_test_score']"
   ]
  },
  {
   "cell_type": "code",
   "execution_count": 114,
   "id": "bd6fa176",
   "metadata": {},
   "outputs": [
    {
     "data": {
      "text/plain": [
       "0.7426622850007204"
      ]
     },
     "execution_count": 114,
     "metadata": {},
     "output_type": "execute_result"
    }
   ],
   "source": [
    "rand_search.cv_results_['mean_test_score'].mean()"
   ]
  },
  {
   "cell_type": "markdown",
   "id": "6df838d5",
   "metadata": {},
   "source": [
    "### All models with different parameters and using cross validation give us an accuracy of around 74%\n",
    "#### The best model is with the parameters N_estimators = 25 and max_depth = 7"
   ]
  },
  {
   "cell_type": "markdown",
   "id": "15324431",
   "metadata": {},
   "source": [
    "## kNN"
   ]
  },
  {
   "cell_type": "code",
   "execution_count": 115,
   "id": "45ee2117",
   "metadata": {},
   "outputs": [
    {
     "data": {
      "text/plain": [
       "((1747643, 5), (1747643,))"
      ]
     },
     "execution_count": 115,
     "metadata": {},
     "output_type": "execute_result"
    }
   ],
   "source": [
    "X = dt\n",
    "y = df_dep['DEP_DEL15']\n",
    "\n",
    "X.shape, y.shape"
   ]
  },
  {
   "cell_type": "markdown",
   "id": "9765d3ab",
   "metadata": {},
   "source": [
    "### Because the ranges of the features are different, we need to normalise the data to apply kNN\n",
    "### and get the best, balanced results - Datacamp tutorial"
   ]
  },
  {
   "cell_type": "code",
   "execution_count": 116,
   "id": "8234b97e",
   "metadata": {},
   "outputs": [],
   "source": [
    "# Split the data into training and test sets\n",
    "X_train, X_test, y_train, y_test = train_test_split(X, y, test_size=0.2)\n",
    "\n",
    "# Scale the features using StandardScaler\n",
    "from sklearn.preprocessing import StandardScaler\n",
    "scaler = StandardScaler()\n",
    "X_train = scaler.fit_transform(X_train)\n",
    "X_test = scaler.transform(X_test)"
   ]
  },
  {
   "cell_type": "code",
   "execution_count": 117,
   "id": "0332c947",
   "metadata": {},
   "outputs": [
    {
     "data": {
      "text/html": [
       "<style>#sk-container-id-3 {color: black;}#sk-container-id-3 pre{padding: 0;}#sk-container-id-3 div.sk-toggleable {background-color: white;}#sk-container-id-3 label.sk-toggleable__label {cursor: pointer;display: block;width: 100%;margin-bottom: 0;padding: 0.3em;box-sizing: border-box;text-align: center;}#sk-container-id-3 label.sk-toggleable__label-arrow:before {content: \"▸\";float: left;margin-right: 0.25em;color: #696969;}#sk-container-id-3 label.sk-toggleable__label-arrow:hover:before {color: black;}#sk-container-id-3 div.sk-estimator:hover label.sk-toggleable__label-arrow:before {color: black;}#sk-container-id-3 div.sk-toggleable__content {max-height: 0;max-width: 0;overflow: hidden;text-align: left;background-color: #f0f8ff;}#sk-container-id-3 div.sk-toggleable__content pre {margin: 0.2em;color: black;border-radius: 0.25em;background-color: #f0f8ff;}#sk-container-id-3 input.sk-toggleable__control:checked~div.sk-toggleable__content {max-height: 200px;max-width: 100%;overflow: auto;}#sk-container-id-3 input.sk-toggleable__control:checked~label.sk-toggleable__label-arrow:before {content: \"▾\";}#sk-container-id-3 div.sk-estimator input.sk-toggleable__control:checked~label.sk-toggleable__label {background-color: #d4ebff;}#sk-container-id-3 div.sk-label input.sk-toggleable__control:checked~label.sk-toggleable__label {background-color: #d4ebff;}#sk-container-id-3 input.sk-hidden--visually {border: 0;clip: rect(1px 1px 1px 1px);clip: rect(1px, 1px, 1px, 1px);height: 1px;margin: -1px;overflow: hidden;padding: 0;position: absolute;width: 1px;}#sk-container-id-3 div.sk-estimator {font-family: monospace;background-color: #f0f8ff;border: 1px dotted black;border-radius: 0.25em;box-sizing: border-box;margin-bottom: 0.5em;}#sk-container-id-3 div.sk-estimator:hover {background-color: #d4ebff;}#sk-container-id-3 div.sk-parallel-item::after {content: \"\";width: 100%;border-bottom: 1px solid gray;flex-grow: 1;}#sk-container-id-3 div.sk-label:hover label.sk-toggleable__label {background-color: #d4ebff;}#sk-container-id-3 div.sk-serial::before {content: \"\";position: absolute;border-left: 1px solid gray;box-sizing: border-box;top: 0;bottom: 0;left: 50%;z-index: 0;}#sk-container-id-3 div.sk-serial {display: flex;flex-direction: column;align-items: center;background-color: white;padding-right: 0.2em;padding-left: 0.2em;position: relative;}#sk-container-id-3 div.sk-item {position: relative;z-index: 1;}#sk-container-id-3 div.sk-parallel {display: flex;align-items: stretch;justify-content: center;background-color: white;position: relative;}#sk-container-id-3 div.sk-item::before, #sk-container-id-3 div.sk-parallel-item::before {content: \"\";position: absolute;border-left: 1px solid gray;box-sizing: border-box;top: 0;bottom: 0;left: 50%;z-index: -1;}#sk-container-id-3 div.sk-parallel-item {display: flex;flex-direction: column;z-index: 1;position: relative;background-color: white;}#sk-container-id-3 div.sk-parallel-item:first-child::after {align-self: flex-end;width: 50%;}#sk-container-id-3 div.sk-parallel-item:last-child::after {align-self: flex-start;width: 50%;}#sk-container-id-3 div.sk-parallel-item:only-child::after {width: 0;}#sk-container-id-3 div.sk-dashed-wrapped {border: 1px dashed gray;margin: 0 0.4em 0.5em 0.4em;box-sizing: border-box;padding-bottom: 0.4em;background-color: white;}#sk-container-id-3 div.sk-label label {font-family: monospace;font-weight: bold;display: inline-block;line-height: 1.2em;}#sk-container-id-3 div.sk-label-container {text-align: center;}#sk-container-id-3 div.sk-container {/* jupyter's `normalize.less` sets `[hidden] { display: none; }` but bootstrap.min.css set `[hidden] { display: none !important; }` so we also need the `!important` here to be able to override the default hidden behavior on the sphinx rendered scikit-learn.org. See: https://github.com/scikit-learn/scikit-learn/issues/21755 */display: inline-block !important;position: relative;}#sk-container-id-3 div.sk-text-repr-fallback {display: none;}</style><div id=\"sk-container-id-3\" class=\"sk-top-container\"><div class=\"sk-text-repr-fallback\"><pre>KNeighborsClassifier(n_neighbors=3)</pre><b>In a Jupyter environment, please rerun this cell to show the HTML representation or trust the notebook. <br />On GitHub, the HTML representation is unable to render, please try loading this page with nbviewer.org.</b></div><div class=\"sk-container\" hidden><div class=\"sk-item\"><div class=\"sk-estimator sk-toggleable\"><input class=\"sk-toggleable__control sk-hidden--visually\" id=\"sk-estimator-id-7\" type=\"checkbox\" checked><label for=\"sk-estimator-id-7\" class=\"sk-toggleable__label sk-toggleable__label-arrow\">KNeighborsClassifier</label><div class=\"sk-toggleable__content\"><pre>KNeighborsClassifier(n_neighbors=3)</pre></div></div></div></div></div>"
      ],
      "text/plain": [
       "KNeighborsClassifier(n_neighbors=3)"
      ]
     },
     "execution_count": 117,
     "metadata": {},
     "output_type": "execute_result"
    }
   ],
   "source": [
    "from sklearn.neighbors import KNeighborsClassifier\n",
    "knn = KNeighborsClassifier(n_neighbors=3)\n",
    "knn.fit(X_train, y_train)"
   ]
  },
  {
   "cell_type": "code",
   "execution_count": 118,
   "id": "cbae98e9",
   "metadata": {},
   "outputs": [],
   "source": [
    "y_pred = knn.predict(X_test)"
   ]
  },
  {
   "cell_type": "code",
   "execution_count": 120,
   "id": "689cde11",
   "metadata": {},
   "outputs": [
    {
     "name": "stdout",
     "output_type": "stream",
     "text": [
      "Accuracy: 0.7120868368575998\n"
     ]
    }
   ],
   "source": [
    "accuracy = metrics.accuracy_score(y_test, y_pred)\n",
    "print(\"Accuracy:\", accuracy)"
   ]
  },
  {
   "cell_type": "markdown",
   "id": "516d8e58",
   "metadata": {},
   "source": [
    "### Utilising 3 neighbours we got 71% accuracy. Now let's use cross validation"
   ]
  },
  {
   "cell_type": "code",
   "execution_count": 123,
   "id": "c21534bd",
   "metadata": {},
   "outputs": [],
   "source": [
    "score = cross_val_score(knn, X, y, cv=5)"
   ]
  },
  {
   "cell_type": "code",
   "execution_count": 128,
   "id": "68e224f7",
   "metadata": {},
   "outputs": [
    {
     "name": "stdout",
     "output_type": "stream",
     "text": [
      "[0.69954138 0.71407809 0.71705352 0.71248655 0.69649928]\n",
      "0.7079317647381661\n"
     ]
    }
   ],
   "source": [
    "print(score)\n",
    "print(score.mean())"
   ]
  },
  {
   "cell_type": "markdown",
   "id": "b47342f5",
   "metadata": {},
   "source": [
    "### Using cross validation, the average accuracy was approximately 70%"
   ]
  },
  {
   "cell_type": "markdown",
   "id": "128e7914",
   "metadata": {},
   "source": [
    "## Lets explore how the model works utilising different k parameters and cross validation"
   ]
  },
  {
   "cell_type": "code",
   "execution_count": 129,
   "id": "aa8d7c27",
   "metadata": {},
   "outputs": [],
   "source": [
    "k_values = [i for i in [3,5,10,20]]\n",
    "scores = []\n",
    "\n",
    "for k in k_values:\n",
    "    knn = KNeighborsClassifier(n_neighbors=k)\n",
    "    score = cross_val_score(knn, X, y, cv=5)\n",
    "    scores.append(np.mean(score))"
   ]
  },
  {
   "cell_type": "code",
   "execution_count": 130,
   "id": "3bef2079",
   "metadata": {},
   "outputs": [
    {
     "data": {
      "text/plain": [
       "Text(0, 0.5, 'Accuracy Score')"
      ]
     },
     "execution_count": 130,
     "metadata": {},
     "output_type": "execute_result"
    },
    {
     "data": {
      "image/png": "[encoded data removed]",
      "text/plain": [
       "<Figure size 640x480 with 1 Axes>"
      ]
     },
     "metadata": {},
     "output_type": "display_data"
    }
   ],
   "source": [
    "sns.lineplot(x = k_values, y = scores, marker = 'o')\n",
    "plt.xlabel(\"K Values\")\n",
    "plt.ylabel(\"Accuracy Score\")"
   ]
  },
  {
   "cell_type": "markdown",
   "id": "3578f919",
   "metadata": {},
   "source": [
    "### Visualising the results of the best model, k = 20"
   ]
  },
  {
   "cell_type": "code",
   "execution_count": 131,
   "id": "9d15078b",
   "metadata": {},
   "outputs": [],
   "source": [
    "# Split the data into training and test sets\n",
    "X_train, X_test, y_train, y_test = train_test_split(X, y, test_size=0.2)\n",
    "\n",
    "# Scale the features using StandardScaler\n",
    "from sklearn.preprocessing import StandardScaler\n",
    "scaler = StandardScaler()\n",
    "X_train = scaler.fit_transform(X_train)\n",
    "X_test = scaler.transform(X_test)"
   ]
  },
  {
   "cell_type": "code",
   "execution_count": 132,
   "id": "173d1b7d",
   "metadata": {},
   "outputs": [],
   "source": [
    "# Import knearest neighbors Classifier model\n",
    "from sklearn.neighbors import KNeighborsClassifier\n",
    "\n",
    "# Create KNN Classifier\n",
    "kNN = KNeighborsClassifier(n_neighbors = 20)\n",
    "\n",
    "# Train the model using the training sets\n",
    "kNN.fit(X_train, y_train)\n",
    "\n",
    "# Predict the response for test dataset\n",
    "y_pred = kNN.predict(X_test)"
   ]
  },
  {
   "cell_type": "code",
   "execution_count": 133,
   "id": "104f07c4",
   "metadata": {},
   "outputs": [
    {
     "name": "stdout",
     "output_type": "stream",
     "text": [
      "Accuracy: 0.75\n"
     ]
    }
   ],
   "source": [
    "# kNN accurarcy score\n",
    "print( \"Accuracy: {:.2f}\".format(metrics.accuracy_score(y_test, y_pred)) )"
   ]
  },
  {
   "cell_type": "code",
   "execution_count": 134,
   "id": "701f9b49",
   "metadata": {},
   "outputs": [
    {
     "data": {
      "image/png": "[encoded data removed]",
      "text/plain": [
       "<Figure size 640x480 with 2 Axes>"
      ]
     },
     "metadata": {},
     "output_type": "display_data"
    }
   ],
   "source": [
    "# Calculate cm by calling a method named as 'confusion_matrix'\n",
    "cm = confusion_matrix(y_test, y_pred)\n",
    "\n",
    "# Call a method heatmap() to plot confusion matrix\n",
    "sns.heatmap(cm, annot = True)\n",
    "plt.xlabel('Estimated')\n",
    "plt.ylabel('True Values')\n",
    "plt.show()"
   ]
  },
  {
   "cell_type": "markdown",
   "id": "192e29b2",
   "metadata": {},
   "source": [
    "## Using Scaling and PCA Methods\n",
    "\n",
    "Before the using Scalin and PCA methods we got '0.73' accuracy of Random Forest and kNN models"
   ]
  },
  {
   "cell_type": "markdown",
   "id": "727e0b10",
   "metadata": {},
   "source": [
    "## Using Scalin"
   ]
  },
  {
   "cell_type": "code",
   "execution_count": 60,
   "id": "204b396c",
   "metadata": {},
   "outputs": [],
   "source": [
    "from sklearn.preprocessing import StandardScaler\n",
    "\n",
    "# Create an object using Standard scalscaler\n",
    "scaler = StandardScaler()\n",
    "\n",
    "# Train the StandardScaler model\n",
    "scaler.fit(X_train)\n",
    "\n",
    "# transform data\n",
    "X_train_scaled = scaler.transform(X_train)\n",
    "X_test_scaled  = scaler.transform(X_test)\n",
    "X_scaled = scaler.transform(X)"
   ]
  },
  {
   "cell_type": "markdown",
   "id": "8e1269e0",
   "metadata": {},
   "source": [
    "## Using PCA"
   ]
  },
  {
   "cell_type": "code",
   "execution_count": 61,
   "id": "d8aaadf8",
   "metadata": {},
   "outputs": [
    {
     "name": "stdout",
     "output_type": "stream",
     "text": [
      "Original shape: (1747643, 5)\n",
      "Reduced shape: (1747643, 2)\n"
     ]
    }
   ],
   "source": [
    "from sklearn.decomposition import PCA\n",
    "\n",
    "# keep the first two principal components of the data\n",
    "pca = PCA(n_components = 2)\n",
    "\n",
    "# transform data into the first two principal components\n",
    "X_pca = pca.fit_transform(X_scaled)\n",
    "\n",
    "print(\"Original shape: {}\".format(str(X_scaled.shape)))\n",
    "print(\"Reduced shape: {}\".format(str(X_pca.shape)))"
   ]
  },
  {
   "cell_type": "code",
   "execution_count": 62,
   "id": "2d6d96e2",
   "metadata": {},
   "outputs": [
    {
     "name": "stdout",
     "output_type": "stream",
     "text": [
      "[0.2107718  0.20900569]\n"
     ]
    }
   ],
   "source": [
    "# The amount of variance explained by each of the selected components.\n",
    "print(pca.explained_variance_ratio_)"
   ]
  },
  {
   "cell_type": "code",
   "execution_count": 63,
   "id": "f6870f57",
   "metadata": {},
   "outputs": [
    {
     "data": {
      "text/plain": [
       "<Axes: >"
      ]
     },
     "execution_count": 63,
     "metadata": {},
     "output_type": "execute_result"
    },
    {
     "data": {
      "image/png": "[encoded data removed]",
      "text/plain": [
       "<Figure size 700x300 with 2 Axes>"
      ]
     },
     "metadata": {},
     "output_type": "display_data"
    }
   ],
   "source": [
    "import seaborn as sns\n",
    "df_comp = pd.DataFrame(pca.components_, columns = dt.columns)\n",
    "  \n",
    "plt.figure(figsize =(7, 3))\n",
    "  \n",
    "# plotting heatmap\n",
    "sns.heatmap(df_comp)"
   ]
  },
  {
   "cell_type": "markdown",
   "id": "bee17b05",
   "metadata": {},
   "source": [
    "## Apply to Decision Tree,Random Forest and kNN Models"
   ]
  },
  {
   "cell_type": "markdown",
   "id": "d57fc4f6",
   "metadata": {},
   "source": [
    "### Decision Tree"
   ]
  },
  {
   "cell_type": "code",
   "execution_count": 64,
   "id": "a4f66dbe",
   "metadata": {},
   "outputs": [],
   "source": [
    "# Create Decision Tree classifer object\n",
    "clf = DecisionTreeClassifier(max_depth = 10,random_state = 0)\n",
    "\n",
    "# Train Decision Tree Classifer\n",
    "clf = clf.fit(X_train_scaled, y_train)\n",
    "\n",
    "#Predict the response for test dataset\n",
    "y_pred = clf.predict(X_test_scaled)"
   ]
  },
  {
   "cell_type": "code",
   "execution_count": 65,
   "id": "b70b41d9",
   "metadata": {},
   "outputs": [
    {
     "name": "stdout",
     "output_type": "stream",
     "text": [
      "Accuracy: 0.75\n"
     ]
    }
   ],
   "source": [
    "# Model Accuracy, how often is the classifier correct?\n",
    "print( \"Accuracy: {:.2f}\".format(metrics.accuracy_score(y_test, y_pred)) )"
   ]
  },
  {
   "cell_type": "code",
   "execution_count": 66,
   "id": "67901e25",
   "metadata": {},
   "outputs": [
    {
     "data": {
      "image/png": "[encoded data removed]",
      "text/plain": [
       "<Figure size 640x480 with 2 Axes>"
      ]
     },
     "metadata": {},
     "output_type": "display_data"
    }
   ],
   "source": [
    "from sklearn.metrics import confusion_matrix\n",
    "\n",
    "# Calculate cm by calling a method named as 'confusion_matrix'\n",
    "cm = confusion_matrix(y_test, y_pred)\n",
    "sns.heatmap(cm, annot = True)\n",
    "plt.xlabel('Estimated')\n",
    "plt.ylabel('True Values')\n",
    "plt.show()"
   ]
  },
  {
   "cell_type": "markdown",
   "id": "a0cf6b9e",
   "metadata": {},
   "source": [
    "### Random Forest"
   ]
  },
  {
   "cell_type": "code",
   "execution_count": 67,
   "id": "fbc13c04",
   "metadata": {},
   "outputs": [],
   "source": [
    "#Create a Gaussian Classifier\n",
    "clf_RF = RandomForestClassifier(n_estimators = 10)\n",
    "\n",
    "#Train the model using the training sets y_pred=clf.predict(X_test)\n",
    "clf_RF.fit(X_train_scaled, y_train)\n",
    "\n",
    "y_pred = clf_RF.predict(X_test_scaled)"
   ]
  },
  {
   "cell_type": "code",
   "execution_count": 68,
   "id": "be0faafe",
   "metadata": {},
   "outputs": [
    {
     "name": "stdout",
     "output_type": "stream",
     "text": [
      "Accuracy: 0.73\n"
     ]
    }
   ],
   "source": [
    "# Random Forest accurarcy score\n",
    "print( \"Accuracy: {:.2f}\".format(metrics.accuracy_score(y_test, y_pred)) )"
   ]
  },
  {
   "cell_type": "code",
   "execution_count": 69,
   "id": "93535f85",
   "metadata": {},
   "outputs": [
    {
     "data": {
      "image/png": "[encoded data removed]",
      "text/plain": [
       "<Figure size 640x480 with 2 Axes>"
      ]
     },
     "metadata": {},
     "output_type": "display_data"
    }
   ],
   "source": [
    "# Calculate cm by calling a method named as 'confusion_matrix'\n",
    "cm = confusion_matrix(y_test, y_pred)\n",
    "\n",
    "# Call a method heatmap() to plot confusion matrix\n",
    "sns.heatmap(cm, annot = True)\n",
    "plt.xlabel('Estimated')\n",
    "plt.ylabel('True Values')\n",
    "plt.show()"
   ]
  },
  {
   "cell_type": "markdown",
   "id": "4f3410d5",
   "metadata": {},
   "source": [
    "### kNN"
   ]
  },
  {
   "cell_type": "code",
   "execution_count": 70,
   "id": "df2d726d",
   "metadata": {},
   "outputs": [],
   "source": [
    "# Create KNN Classifier\n",
    "kNN = KNeighborsClassifier(n_neighbors = 5)\n",
    "\n",
    "# Train the model using the training sets\n",
    "kNN.fit(X_train_scaled, y_train)\n",
    "\n",
    "# Predict the response for test dataset\n",
    "y_pred = kNN.predict(X_test_scaled)"
   ]
  },
  {
   "cell_type": "code",
   "execution_count": 71,
   "id": "2783adb7",
   "metadata": {},
   "outputs": [
    {
     "name": "stdout",
     "output_type": "stream",
     "text": [
      "Accuracy: 0.73\n"
     ]
    }
   ],
   "source": [
    "# kNN accurarcy score\n",
    "print( \"Accuracy: {:.2f}\".format(metrics.accuracy_score(y_test, y_pred)) )"
   ]
  },
  {
   "cell_type": "code",
   "execution_count": 72,
   "id": "fddec3af",
   "metadata": {},
   "outputs": [
    {
     "data": {
      "image/png": "[encoded data removed]",
      "text/plain": [
       "<Figure size 640x480 with 2 Axes>"
      ]
     },
     "metadata": {},
     "output_type": "display_data"
    }
   ],
   "source": [
    "# Calculate cm by calling a method named as 'confusion_matrix'\n",
    "cm = confusion_matrix(y_test, y_pred)\n",
    "\n",
    "# Call a method heatmap() to plot confusion matrix\n",
    "sns.heatmap(cm, annot = True)\n",
    "plt.xlabel('Estimated')\n",
    "plt.ylabel('True Values')\n",
    "plt.show()"
   ]
  },
  {
   "cell_type": "markdown",
   "id": "6ee3332b",
   "metadata": {},
   "source": [
    "#### In this case we are seeing the data structure is already well-separated between classes, so the score hasn't changed even after scaling and PCA operations."
   ]
  },
  {
   "cell_type": "markdown",
   "id": "bd771628",
   "metadata": {},
   "source": [
    "# Referances\n",
    "\n",
    "**** We need to put here dataset links\n"
   ]
  },
  {
   "cell_type": "code",
   "execution_count": null,
   "id": "f9834fdd",
   "metadata": {},
   "outputs": [],
   "source": []
  }
 ],
 "metadata": {
  "kernelspec": {
   "display_name": "Python 3 (ipykernel)",
   "language": "python",
   "name": "python3"
  },
  "language_info": {
   "codemirror_mode": {
    "name": "ipython",
    "version": 3
   },
   "file_extension": ".py",
   "mimetype": "text/x-python",
   "name": "python",
   "nbconvert_exporter": "python",
   "pygments_lexer": "ipython3",
   "version": "3.11.5"
  }
 },
 "nbformat": 4,
 "nbformat_minor": 5
}
